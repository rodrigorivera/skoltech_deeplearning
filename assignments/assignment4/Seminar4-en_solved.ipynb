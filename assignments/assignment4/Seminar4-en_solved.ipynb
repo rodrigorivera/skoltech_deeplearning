{
 "cells": [
  {
   "cell_type": "markdown",
   "metadata": {},
   "source": [
    "# Theano, Lasagne\n",
    "and why they matter\n",
    "\n",
    "\n",
    "### got no lasagne?\n",
    "Install the __bleeding edge__ version from here: http://lasagne.readthedocs.org/en/latest/user/installation.html"
   ]
  },
  {
   "cell_type": "markdown",
   "metadata": {},
   "source": [
    "# Warming up\n",
    "* Implement a function that computes the sum of squares of numbers from 0 to N\n",
    "* Use numpy or python\n",
    "* An array of numbers 0 to N - numpy.arange(N)"
   ]
  },
  {
   "cell_type": "code",
   "execution_count": 11,
   "metadata": {
    "collapsed": false
   },
   "outputs": [],
   "source": [
    "import numpy as np\n",
    "def sum_squares(N):\n",
    "    numbers = np.arange(N)\n",
    "    sumsquares = np.sum(numbers**2)\n",
    "    return sumsquares"
   ]
  },
  {
   "cell_type": "code",
   "execution_count": 12,
   "metadata": {
    "collapsed": false
   },
   "outputs": [
    {
     "name": "stdout",
     "output_type": "stream",
     "text": [
      "CPU times: user 340 ms, sys: 391 ms, total: 732 ms\n",
      "Wall time: 743 ms\n"
     ]
    },
    {
     "data": {
      "text/plain": [
       "662921401752298880"
      ]
     },
     "execution_count": 12,
     "metadata": {},
     "output_type": "execute_result"
    }
   ],
   "source": [
    "%%time\n",
    "sum_squares(10**8)"
   ]
  },
  {
   "cell_type": "markdown",
   "metadata": {},
   "source": [
    "# theano teaser\n",
    "\n",
    "Doing the very same thing"
   ]
  },
  {
   "cell_type": "code",
   "execution_count": 1,
   "metadata": {
    "collapsed": true
   },
   "outputs": [],
   "source": [
    "import theano\n",
    "import theano.tensor as T"
   ]
  },
  {
   "cell_type": "code",
   "execution_count": 2,
   "metadata": {
    "collapsed": false
   },
   "outputs": [],
   "source": [
    "\n",
    "\n",
    "#I gonna be function parameter\n",
    "N = T.scalar(\"a dimension\",dtype='int32')\n",
    "\n",
    "\n",
    "#i am a recipe on how to produce sum of squares of arange of N given N\n",
    "result = (T.arange(N)**2).sum()\n",
    "\n",
    "#Compiling the recipe of computing \"result\" given N\n",
    "sum_function = theano.function(inputs = [N],outputs=result)"
   ]
  },
  {
   "cell_type": "code",
   "execution_count": 3,
   "metadata": {
    "collapsed": false
   },
   "outputs": [
    {
     "name": "stdout",
     "output_type": "stream",
     "text": [
      "CPU times: user 271 ms, sys: 214 ms, total: 485 ms\n",
      "Wall time: 483 ms\n"
     ]
    },
    {
     "data": {
      "text/plain": [
       "array(662921401752298880)"
      ]
     },
     "execution_count": 3,
     "metadata": {},
     "output_type": "execute_result"
    }
   ],
   "source": [
    "%%time\n",
    "sum_function(10**8)"
   ]
  },
  {
   "cell_type": "markdown",
   "metadata": {},
   "source": [
    "# How does it work?\n",
    "* 1 You define inputs f your future function;\n",
    "* 2 You write a recipe for some transformation of inputs;\n",
    "* 3 You compile it;\n",
    "* You have just got a function!\n",
    "* The gobbledegooky version: you define a function as symbolic computation graph.\n",
    "\n",
    "\n",
    "* There are two main kinвs of entities: \"Inputs\" and \"Transformations\"\n",
    "* Both can be numbers, vectors, matrices, tensors, etc.\n",
    "* Both can be integers, floats of booleans (uint8) of various size.\n",
    "\n",
    "\n",
    "* An input is a placeholder for function parameters.\n",
    " * N from example above\n",
    "\n",
    "\n",
    "* Transformations are the recipes for computing something given inputs and transformation\n",
    " * (T.arange(N)^2).sum() are 3 sequential transformations of N\n",
    " * Doubles all functions of numpy vector syntax\n",
    " * You can almost always go with replacing \"np.function\" with \"T.function\" aka \"theano.tensor.function\"\n",
    "   * np.mean -> T.mean\n",
    "   * np.arange -> T.arange\n",
    "   * np.cumsum -> T.cumsum\n",
    "   * and so on.\n",
    "   * builtin operations also work that way\n",
    "   * np.arange(10).mean() -> T.arange(10).mean()\n",
    "   * Once upon a blue moon the functions have different names or locations (e.g. T.extra_ops)\n",
    "     * Ask us or google it\n",
    " \n",
    " \n",
    "Still confused? We gonna fix that."
   ]
  },
  {
   "cell_type": "code",
   "execution_count": 4,
   "metadata": {
    "collapsed": false
   },
   "outputs": [],
   "source": [
    "#Inputs\n",
    "example_input_integer = T.scalar(\"scalar input\",dtype='float32')\n",
    "\n",
    "example_input_tensor = T.tensor4(\"four dimensional tensor input\") #dtype = theano.config.floatX by default\n",
    "#не бойся, тензор нам не пригодится\n",
    "\n",
    "\n",
    "\n",
    "input_vector = T.vector(\"\", dtype='int32') # vector of integers\n"
   ]
  },
  {
   "cell_type": "code",
   "execution_count": 5,
   "metadata": {
    "collapsed": false
   },
   "outputs": [],
   "source": [
    "#Transformations\n",
    "\n",
    "#transofrmation: elementwise multiplication\n",
    "double_the_vector = input_vector*2\n",
    "\n",
    "#elementwise cosine\n",
    "elementwise_cosine = T.cos(input_vector)\n",
    "\n",
    "#difference between squared vector and vector itself\n",
    "vector_squares = input_vector**2 - input_vector\n"
   ]
  },
  {
   "cell_type": "code",
   "execution_count": 6,
   "metadata": {
    "collapsed": false
   },
   "outputs": [],
   "source": [
    "#Practice time:\n",
    "#create two vectors of size float32\n",
    "my_vector = T.vector('vector input 1', dtype='float32')\n",
    "my_vector2 = T.vector('vector input 2', dtype='float32')"
   ]
  },
  {
   "cell_type": "code",
   "execution_count": 7,
   "metadata": {
    "collapsed": false
   },
   "outputs": [],
   "source": [
    "#Write a transformation(recipe):\n",
    "#(vec1)*(vec2) / (sin(vec1) +1)\n",
    "my_transformation = T.dot(my_vector,my_vector2)/(T.sin(my_vector)+1)"
   ]
  },
  {
   "cell_type": "code",
   "execution_count": 8,
   "metadata": {
    "collapsed": false
   },
   "outputs": [
    {
     "name": "stdout",
     "output_type": "stream",
     "text": [
      "Elemwise{true_div,no_inplace}.0\n"
     ]
    }
   ],
   "source": [
    "print my_transformation\n",
    "#it's okay it aint a number"
   ]
  },
  {
   "cell_type": "markdown",
   "metadata": {},
   "source": [
    "# Compiling\n",
    "* So far we were using \"symbolic\" variables and transformations\n",
    " * Defining the recipe for computation, but not computing anything\n",
    "* To use the recipe, one should compile it"
   ]
  },
  {
   "cell_type": "code",
   "execution_count": 9,
   "metadata": {
    "collapsed": false
   },
   "outputs": [
    {
     "name": "stderr",
     "output_type": "stream",
     "text": [
      "WARNING (theano.tensor.blas): We did not found a dynamic library into the library_dir of the library we use for blas. If you use ATLAS, make sure to compile it with dynamics library.\n",
      "WARNING (theano.tensor.blas): We did not found a dynamic library into the library_dir of the library we use for blas. If you use ATLAS, make sure to compile it with dynamics library.\n"
     ]
    }
   ],
   "source": [
    "inputs = [my_vector, my_vector2]\n",
    "outputs = [my_transformation]\n",
    "\n",
    "# The next lines compile a function that takes two vectors and computes your transformation\n",
    "my_function = theano.function(\n",
    "    inputs,outputs,\n",
    "    allow_input_downcast=True #automatic type casting for input parameters (e.g. float64 -> float32)\n",
    " )"
   ]
  },
  {
   "cell_type": "code",
   "execution_count": 13,
   "metadata": {
    "collapsed": false
   },
   "outputs": [
    {
     "name": "stdout",
     "output_type": "stream",
     "text": [
      "using python lists:\n",
      "[array([ 17.3774128 ,  16.76009178,  28.04262543], dtype=float32)]\n",
      "\n",
      "using numpy arrays:\n",
      "[array([  256.66668701,   139.3813324 ,   134.42991638,   224.92524719,\n",
      "        1055.38378906,  6248.625     ,   356.19235229,   154.89967346,\n",
      "         129.01985168,   181.76002502], dtype=float32)]\n"
     ]
    }
   ],
   "source": [
    "#using function with, lists:\n",
    "print \"using python lists:\"\n",
    "print my_function([1,2,3],[4,5,6])\n",
    "print\n",
    "\n",
    "#Or using numpy arrays:\n",
    "#btw, that 'float' dtype is casted to secong parameter dtype which is float32\n",
    "print \"using numpy arrays:\"\n",
    "print my_function(np.arange(10),\n",
    "                  np.linspace(5,6,10,dtype='float'))\n"
   ]
  },
  {
   "cell_type": "markdown",
   "metadata": {},
   "source": [
    "# Debugging\n",
    "* Compilation can take a while for big functions\n",
    "* To avoid waiting, one can evaluate transformations without compiling\n",
    "* Without compilation, the code runs slower, so consider reducing input size\n"
   ]
  },
  {
   "cell_type": "code",
   "execution_count": 14,
   "metadata": {
    "collapsed": false
   },
   "outputs": [
    {
     "name": "stdout",
     "output_type": "stream",
     "text": [
      "[ 17.3774128   16.76009178  28.04262543]\n",
      "add 2 vectors [ 5.  7.  9.]\n",
      "vector's shape: [3]\n"
     ]
    }
   ],
   "source": [
    "#a dictionary of inputs\n",
    "my_function_inputs = {\n",
    "    my_vector:[1,2,3],\n",
    "    my_vector2:[4,5,6]\n",
    "}\n",
    "\n",
    "# evaluate my_transformation\n",
    "# has to match with compiled function output\n",
    "print my_transformation.eval(my_function_inputs)\n",
    "\n",
    "\n",
    "# can compute transformations on the fly\n",
    "print \"add 2 vectors\", (my_vector + my_vector2).eval(my_function_inputs)\n",
    "\n",
    "#!WARNING! if your transformation only depends on some inputs,\n",
    "#do not provide the rest of them\n",
    "print \"vector's shape:\", my_vector.shape.eval({\n",
    "        my_vector:[1,2,3]\n",
    "    })\n"
   ]
  },
  {
   "cell_type": "markdown",
   "metadata": {},
   "source": [
    "* Для отладки желательно уменьшить масштаб задачи. Если вы планировали послать на вход вектор из 10^9 примеров, пошлите 10~100.\n",
    "* Если #ОЧЕНЬ нужно послать большой вектор, быстрее скомпилировать функцию обычным способом"
   ]
  },
  {
   "cell_type": "markdown",
   "metadata": {},
   "source": [
    "# Теперь сам"
   ]
  },
  {
   "cell_type": "code",
   "execution_count": 15,
   "metadata": {
    "collapsed": false
   },
   "outputs": [],
   "source": [
    "# Quest #1 - implement a function that computes a mean squared error of two input vectors\n",
    "# Your function has to take 2 vectors and return a single number\n",
    "\n",
    "'''<student.define_inputs_and_transformations()>'''\n",
    "a_v = T.vector('vector input 1')\n",
    "a_v2 = T.vector('vector input 2')\n",
    "\n",
    "mse = T.mean(T.pow((a_v-a_v2),2))\n",
    "inputs = [a_v, a_v2]\n",
    "outputs= [mse]\n",
    "\n",
    "#Compiling the recipe of computing \"result\" given N\n",
    "compute_mse = theano.function(inputs, outputs)"
   ]
  },
  {
   "cell_type": "code",
   "execution_count": 16,
   "metadata": {
    "collapsed": false
   },
   "outputs": [
    {
     "name": "stdout",
     "output_type": "stream",
     "text": [
      "All tests passed\n"
     ]
    }
   ],
   "source": [
    "# Tests\n",
    "from sklearn.metrics import mean_squared_error\n",
    "\n",
    "for n in [1,5,10,10**3]:\n",
    "    \n",
    "    elems = [np.arange(n),np.arange(n,0,-1), np.zeros(n),\n",
    "             np.ones(n),np.random.random(n),np.random.randint(100,size=n)]\n",
    "    \n",
    "    for el in elems:\n",
    "        for el_2 in elems:\n",
    "            true_mse = np.array(mean_squared_error(el,el_2))\n",
    "            my_mse = compute_mse(el,el_2)\n",
    "            if not np.allclose(true_mse,my_mse):\n",
    "                print 'Wrong result:'\n",
    "                print 'mse(%s,%s)'%(el,el_2)\n",
    "                print \"should be: %f, but your function returned %f\"%(true_mse,my_mse)\n",
    "                raise ValueError,\"Что-то не так\"\n",
    "\n",
    "print \"All tests passed\"\n",
    "            \n",
    "    "
   ]
  },
  {
   "cell_type": "markdown",
   "metadata": {},
   "source": [
    "# Shared variables\n",
    "\n",
    "* The inputs and transformations only exist when function is called\n",
    "\n",
    "* Shared variables always stay in memory like global variables\n",
    " * Shared variables can be included into a symbolic graph\n",
    " * They can be set and evaluated using special methods\n",
    "   * but they can't change value arbitrarily during symbolic graph computation\n",
    "   * we'll cover that later;\n",
    " \n",
    " \n",
    "* Hint: such variables are a perfect place to store network parameters\n",
    " * e.g. weights or some metadata"
   ]
  },
  {
   "cell_type": "code",
   "execution_count": 17,
   "metadata": {
    "collapsed": false
   },
   "outputs": [],
   "source": [
    "#creating shared variable\n",
    "shared_vector_1 = theano.shared(np.ones(10,dtype='float64'))"
   ]
  },
  {
   "cell_type": "code",
   "execution_count": 18,
   "metadata": {
    "collapsed": false
   },
   "outputs": [
    {
     "name": "stdout",
     "output_type": "stream",
     "text": [
      "initial value [ 1.  1.  1.  1.  1.  1.  1.  1.  1.  1.]\n"
     ]
    }
   ],
   "source": [
    "\n",
    "#evaluating shared variable (outside symbolicd graph)\n",
    "print \"initial value\",shared_vector_1.get_value()\n",
    "\n",
    "# within symbolic graph you use them just as any other inout or transformation, not \"get value\" needed"
   ]
  },
  {
   "cell_type": "code",
   "execution_count": 19,
   "metadata": {
    "collapsed": false
   },
   "outputs": [
    {
     "name": "stdout",
     "output_type": "stream",
     "text": [
      "new value [ 0.  1.  2.  3.  4.]\n"
     ]
    }
   ],
   "source": [
    "#setting new value\n",
    "shared_vector_1.set_value( np.arange(5) )\n",
    "\n",
    "#getting that new value\n",
    "print \"new value\", shared_vector_1.get_value()\n",
    "\n",
    "#Note that the vector changed shape\n",
    "#This is entirely allowed... unless your graph is hard-wired to work with some fixed shape"
   ]
  },
  {
   "cell_type": "markdown",
   "metadata": {},
   "source": [
    "# Your turn"
   ]
  },
  {
   "cell_type": "code",
   "execution_count": 20,
   "metadata": {
    "collapsed": false
   },
   "outputs": [],
   "source": [
    "# Write a recipe (transformation) that computes an elementwise transformation of shared_vector and input_scalar\n",
    "#Compile as a function of input_scalar\n",
    "\n",
    "input_scalar = T.scalar('coefficient',dtype='float32')\n",
    "shared_vector_1 = theano.shared(np.arange(5,dtype='float32'))\n",
    "#print input_shared_vector.get_value()\n",
    "\n",
    "scalar_times_shared = input_scalar*shared_vector_1\n",
    "\n",
    "inputs = [input_scalar]\n",
    "outputs = [scalar_times_shared]\n",
    "\n",
    "shared_times_n = theano.function(inputs, outputs)"
   ]
  },
  {
   "cell_type": "code",
   "execution_count": 21,
   "metadata": {
    "collapsed": false
   },
   "outputs": [
    {
     "name": "stdout",
     "output_type": "stream",
     "text": [
      "shared: [ 0.  1.  2.  3.  4.]\n",
      "shared_times_n(5) [array([  0.,   5.,  10.,  15.,  20.], dtype=float32)]\n",
      "shared_times_n(-0.5) [array([-0. , -0.5, -1. , -1.5, -2. ], dtype=float32)]\n"
     ]
    }
   ],
   "source": [
    "print \"shared:\", shared_vector_1.get_value()\n",
    "\n",
    "print \"shared_times_n(5)\",shared_times_n(5)\n",
    "\n",
    "print \"shared_times_n(-0.5)\",shared_times_n(-0.5)\n"
   ]
  },
  {
   "cell_type": "code",
   "execution_count": 22,
   "metadata": {
    "collapsed": false
   },
   "outputs": [
    {
     "name": "stdout",
     "output_type": "stream",
     "text": [
      "shared: [-1.  0.  1.]\n",
      "shared_times_n(5) [array([-5.,  0.,  5.], dtype=float32)]\n",
      "shared_times_n(-0.5) [array([ 0.5, -0. , -0.5], dtype=float32)]\n"
     ]
    }
   ],
   "source": [
    "#Changing value of vector 1 (output should change)\n",
    "shared_vector_1.set_value([-1,0,1])\n",
    "print \"shared:\", shared_vector_1.get_value()\n",
    "\n",
    "print \"shared_times_n(5)\",shared_times_n(5)\n",
    "\n",
    "print \"shared_times_n(-0.5)\",shared_times_n(-0.5)\n"
   ]
  },
  {
   "cell_type": "markdown",
   "metadata": {},
   "source": [
    "# T.grad - why theano matters\n",
    "* Theano can compute derivatives and gradients automatically\n",
    "* Derivatives are computed symbolically, not numerically\n",
    "\n",
    "Limitations:\n",
    "* You can only compute a gradient of a __scalar__ transformation over one or several scalar or vector (or tensor) transformations or inputs.\n",
    "* A transformation has to have float32 or float64 dtype throughout the whole computation graph\n",
    " * derivative over an integer has no mathematical sense\n"
   ]
  },
  {
   "cell_type": "code",
   "execution_count": 30,
   "metadata": {
    "collapsed": false
   },
   "outputs": [],
   "source": [
    "my_scalar = T.scalar(name='input',dtype='float64')\n",
    "\n",
    "scalar_squared = T.sum(my_scalar**2)\n",
    "\n",
    "#a derivative of v_squared by my_vector\n",
    "derivative = T.grad(scalar_squared,my_scalar)\n",
    "\n",
    "fun = theano.function([my_scalar],scalar_squared)\n",
    "grad = theano.function([my_scalar],derivative) "
   ]
  },
  {
   "cell_type": "code",
   "execution_count": 31,
   "metadata": {
    "collapsed": false
   },
   "outputs": [
    {
     "data": {
      "text/plain": [
       "<matplotlib.legend.Legend at 0x7fb526208c50>"
      ]
     },
     "execution_count": 31,
     "metadata": {},
     "output_type": "execute_result"
    },
    {
     "data": {
      "image/png": "[encoded data removed]",
      "text/plain": [
       "<matplotlib.figure.Figure at 0x7fb533767110>"
      ]
     },
     "metadata": {},
     "output_type": "display_data"
    }
   ],
   "source": [
    "import matplotlib.pyplot as plt\n",
    "%matplotlib inline\n",
    "plt.style.use('fivethirtyeight')\n",
    "\n",
    "\n",
    "x = np.linspace(-3,3)\n",
    "x_squared = map(fun,x)\n",
    "x_squared_der = map(grad,x)\n",
    "\n",
    "plt.plot(x, x_squared,label=\"x^2\")\n",
    "plt.plot(x, x_squared_der, label=\"derivative\")\n",
    "plt.legend()"
   ]
  },
  {
   "cell_type": "markdown",
   "metadata": {},
   "source": [
    "# Why that rocks"
   ]
  },
  {
   "cell_type": "code",
   "execution_count": 39,
   "metadata": {
    "collapsed": false
   },
   "outputs": [],
   "source": [
    "\n",
    "my_vector = T.vector('float64')\n",
    "\n",
    "#Compute the gradient of the next weird function over my_scalar and my_vector\n",
    "#warning! Trying to understand the meaning of that function may result in permanent brain damage\n",
    "\n",
    "weird_psychotic_function = ((my_vector+my_scalar)**(1+T.var(my_vector)) +1./T.arcsinh(my_scalar)).mean()/(my_scalar**2 +1) + 0.01*T.sin(2*my_scalar**1.5)*(T.sum(my_vector)* my_scalar**2)*T.exp((my_scalar-4)**2)/(1+T.exp((my_scalar-4)**2))*(1.-(T.exp(-(my_scalar-4)**2))/(1+T.exp(-(my_scalar-4)**2)))**2\n",
    "\n",
    "\n",
    "der_by_scalar,der_by_vector = T.grad(weird_psychotic_function, [my_scalar,my_vector])\n",
    "\n",
    "\n",
    "compute_weird_function = theano.function([my_scalar,my_vector],weird_psychotic_function)\n",
    "compute_der_by_scalar = theano.function([my_scalar,my_vector],der_by_scalar)\n"
   ]
  },
  {
   "cell_type": "code",
   "execution_count": 40,
   "metadata": {
    "collapsed": false
   },
   "outputs": [
    {
     "data": {
      "text/plain": [
       "<matplotlib.legend.Legend at 0x7efed74dcc90>"
      ]
     },
     "execution_count": 40,
     "metadata": {},
     "output_type": "execute_result"
    },
    {
     "data": {
      "image/png": "[encoded data removed]",
      "text/plain": [
       "<matplotlib.figure.Figure at 0x7efed7bdb110>"
      ]
     },
     "metadata": {},
     "output_type": "display_data"
    }
   ],
   "source": [
    "#Plotting your derivative\n",
    "vector_0 = [1,2,3]\n",
    "\n",
    "scalar_space = np.linspace(0,7)\n",
    "\n",
    "y = [compute_weird_function(x,vector_0) for x in scalar_space]\n",
    "plt.plot(scalar_space,y,label='function')\n",
    "y_der_by_scalar = [compute_der_by_scalar(x,vector_0) for x in scalar_space]\n",
    "plt.plot(scalar_space,y_der_by_scalar,label='derivative')\n",
    "plt.grid();plt.legend()\n"
   ]
  },
  {
   "cell_type": "markdown",
   "metadata": {},
   "source": [
    "# Almost done - Updates\n",
    "\n",
    "* updates are a way of changing shared variables at after function call.\n",
    "\n",
    "* technically it's a dictionary {shared_variable : a recipe for new value} which is has to be provided when function is compiled\n",
    "\n",
    "That's how it works:"
   ]
  },
  {
   "cell_type": "code",
   "execution_count": 27,
   "metadata": {
    "collapsed": false
   },
   "outputs": [],
   "source": [
    "# Multiply shared vector by a number and save the product back into shared vector\n",
    "\n",
    "inputs = [input_scalar]\n",
    "outputs = [scalar_times_shared] #return vector times scalar\n",
    "\n",
    "my_updates = {\n",
    "    shared_vector_1:scalar_times_shared #and write this same result bach into shared_vector_1\n",
    "}\n",
    "\n",
    "compute_and_save = theano.function(inputs, outputs, updates=my_updates)"
   ]
  },
  {
   "cell_type": "code",
   "execution_count": 28,
   "metadata": {
    "collapsed": false
   },
   "outputs": [
    {
     "name": "stdout",
     "output_type": "stream",
     "text": [
      "initial shared value: [ 0.  1.  2.  3.  4.]\n",
      "compute_and_save(2) returns [array([ 0.,  2.,  4.,  6.,  8.], dtype=float32)]\n",
      "new shared value: [ 0.  2.  4.  6.  8.]\n"
     ]
    }
   ],
   "source": [
    "shared_vector_1.set_value(np.arange(5,dtype='float32'))\n",
    "\n",
    "#initial shared_vector_1\n",
    "print \"initial shared value:\" ,shared_vector_1.get_value()\n",
    "\n",
    "# evaluating the function (shared_vector_1 will be changed)\n",
    "print \"compute_and_save(2) returns\",compute_and_save(2)\n",
    "\n",
    "#evaluate new shared_vector_1\n",
    "print \"new shared value:\" ,shared_vector_1.get_value()\n",
    "\n"
   ]
  },
  {
   "cell_type": "markdown",
   "metadata": {},
   "source": [
    "# Logistic regression example\n",
    "\n",
    "Implement the regular logistic regression training algorithm\n",
    "\n",
    "Tips:\n",
    "* Weights fit in as a shared variable\n",
    "* X and y are potential inputs\n",
    "* Compile 2 functions:\n",
    " * train_function(X,y) - returns error and computes weights' new values __(through updates)__\n",
    " * predict_fun(X) - just computes probabilities (\"y\") given data\n",
    " \n",
    " \n",
    "We shall train on a two-class MNIST dataset\n",
    "* please note that target y are {0,1} and not {-1,1} as in some formulae"
   ]
  },
  {
   "cell_type": "code",
   "execution_count": 23,
   "metadata": {
    "collapsed": false
   },
   "outputs": [
    {
     "name": "stdout",
     "output_type": "stream",
     "text": [
      "y [shape - (360,)]: [0 1 0 1 0 1 0 0 1 1]\n",
      "X [shape - (360, 64)]:\n",
      "[[  0.   0.   5.  13.   9.   1.   0.   0.   0.   0.  13.  15.  10.  15.\n",
      "    5.   0.   0.   3.  15.   2.   0.  11.   8.   0.   0.   4.  12.   0.\n",
      "    0.   8.   8.   0.   0.   5.   8.   0.   0.   9.   8.   0.   0.   4.\n",
      "   11.   0.   1.  12.   7.   0.   0.   2.  14.   5.  10.  12.   0.   0.\n",
      "    0.   0.   6.  13.  10.   0.   0.   0.]\n",
      " [  0.   0.   0.  12.  13.   5.   0.   0.   0.   0.   0.  11.  16.   9.\n",
      "    0.   0.   0.   0.   3.  15.  16.   6.   0.   0.   0.   7.  15.  16.\n",
      "   16.   2.   0.   0.   0.   0.   1.  16.  16.   3.   0.   0.   0.   0.\n",
      "    1.  16.  16.   6.   0.   0.   0.   0.   1.  16.  16.   6.   0.   0.\n",
      "    0.   0.   0.  11.  16.  10.   0.   0.]\n",
      " [  0.   0.   1.   9.  15.  11.   0.   0.   0.   0.  11.  16.   8.  14.\n",
      "    6.   0.   0.   2.  16.  10.   0.   9.   9.   0.   0.   1.  16.   4.\n",
      "    0.   8.   8.   0.   0.   4.  16.   4.   0.   8.   8.   0.   0.   1.\n",
      "   16.   5.   1.  11.   3.   0.   0.   0.  12.  12.  10.  10.   0.   0.\n",
      "    0.   0.   1.  10.  13.   3.   0.   0.]]\n",
      "[0 1 0 1 0 1 0 0 1 1]\n"
     ]
    }
   ],
   "source": [
    "from sklearn.datasets import load_digits\n",
    "mnist = load_digits(2)\n",
    "\n",
    "X,y = mnist.data, mnist.target\n",
    "\n",
    "\n",
    "print \"y [shape - %s]:\"%(str(y.shape)),y[:10]\n",
    "\n",
    "print \"X [shape - %s]:\"%(str(X.shape))\n",
    "print X[:3]\n",
    "print y[:10]"
   ]
  },
  {
   "cell_type": "code",
   "execution_count": 24,
   "metadata": {
    "collapsed": false
   },
   "outputs": [],
   "source": [
    "# inputs and shareds\n",
    "shared_weights = theano.shared(np.ones(X.shape[1], dtype='float64'))\n",
    "input_X = T.matrix('X', dtype='float64')\n",
    "input_y = T.vector('y', dtype='float64')"
   ]
  },
  {
   "cell_type": "code",
   "execution_count": 25,
   "metadata": {
    "collapsed": true
   },
   "outputs": [],
   "source": [
    "predicted_y = T.nnet.sigmoid(input_X.dot(shared_weights)).T\n",
    "##<predicted probabilities for input_X>\n",
    "loss = T.mean(T.log(1 + T.exp(- 4 * (input_y - 0.5) * (input_X.dot(shared_weights) - 0.5))))\n",
    "##<logistic loss (scalar, mean over sample)>\n",
    "\n",
    "grad = T.grad(loss, shared_weights)\n",
    "##<gradient of loss over model weights>\n",
    "alpha = 0.1\n",
    "\n",
    "\n",
    "\n",
    "updates = {\n",
    "    shared_weights: shared_weights - alpha * grad\n",
    "    ##<new weights after gradient step>\n",
    "}"
   ]
  },
  {
   "cell_type": "code",
   "execution_count": 26,
   "metadata": {
    "collapsed": false
   },
   "outputs": [],
   "source": [
    "train_function = theano.function(\n",
    "    inputs = [input_X, input_y],\n",
    "    outputs = loss,\n",
    "    updates = updates\n",
    "    )\n",
    "\n",
    "##<compile function that takes X and y, returns log loss and updates weights>\n",
    "predict_function = theano.function(\n",
    "    [input_X],\n",
    "    predicted_y\n",
    ")\n",
    "\n",
    "#<compile function that takes X and computes probabilities of y>"
   ]
  },
  {
   "cell_type": "code",
   "execution_count": 27,
   "metadata": {
    "collapsed": false
   },
   "outputs": [],
   "source": [
    "from sklearn.cross_validation import train_test_split\n",
    "X_train,X_test,y_train,y_test = train_test_split(X,y)"
   ]
  },
  {
   "cell_type": "code",
   "execution_count": 32,
   "metadata": {
    "collapsed": false
   },
   "outputs": [
    {
     "name": "stdout",
     "output_type": "stream",
     "text": [
      "loss at iter 0:1.4060\n",
      "train auc: 0.996212121212\n",
      "test auc: 0.978260869565\n",
      "loss at iter 1:0.2517\n",
      "train auc: 1.0\n",
      "test auc: 0.978260869565\n",
      "loss at iter 2:0.1554\n",
      "train auc: 1.0\n",
      "test auc: 0.978260869565\n",
      "loss at iter 3:0.0590\n",
      "train auc: 1.0\n",
      "test auc: 0.989130434783\n",
      "loss at iter 4:0.0001\n",
      "train auc: 1.0\n",
      "test auc: 0.989130434783\n",
      "resulting weights:\n"
     ]
    },
    {
     "data": {
      "text/plain": [
       "<matplotlib.colorbar.Colorbar at 0x7fb50a80df10>"
      ]
     },
     "execution_count": 32,
     "metadata": {},
     "output_type": "execute_result"
    },
    {
     "data": {
      "image/png": "[encoded data removed]",
      "text/plain": [
       "<matplotlib.figure.Figure at 0x7fb516b78390>"
      ]
     },
     "metadata": {},
     "output_type": "display_data"
    }
   ],
   "source": [
    "from sklearn.metrics import roc_auc_score\n",
    "\n",
    "for i in range(5):\n",
    "    loss_i = train_function(X_train,y_train)\n",
    "    print \"loss at iter %i:%.4f\"%(i,loss_i)\n",
    "    print \"train auc:\",roc_auc_score(y_train,predict_function(X_train))\n",
    "    print \"test auc:\",roc_auc_score(y_test,predict_function(X_test))\n",
    "\n",
    "    \n",
    "print \"resulting weights:\"\n",
    "plt.imshow(shared_weights.get_value().reshape(8,-1))\n",
    "plt.colorbar()"
   ]
  },
  {
   "cell_type": "markdown",
   "metadata": {},
   "source": [
    "# lasagne\n",
    "* lasagne is a library for neural network building and training\n",
    "* it's a low-level library with almost seamless integration with theano\n",
    "\n",
    "For a demo we shall solve the same digit recognition problem, but at a different scale\n",
    "* images are now 28x28\n",
    "* 10 different digits\n",
    "* 50k samples"
   ]
  },
  {
   "cell_type": "code",
   "execution_count": 45,
   "metadata": {
    "collapsed": false
   },
   "outputs": [
    {
     "name": "stdout",
     "output_type": "stream",
     "text": [
      "(50000, 1, 28, 28) (50000,)\n"
     ]
    }
   ],
   "source": [
    "from mnist import load_dataset\n",
    "X_train,y_train,X_val,y_val,X_test,y_test = load_dataset()\n",
    "\n",
    "print X_train.shape,y_train.shape"
   ]
  },
  {
   "cell_type": "code",
   "execution_count": 49,
   "metadata": {
    "collapsed": false
   },
   "outputs": [
    {
     "name": "stdout",
     "output_type": "stream",
     "text": [
      "discarding /opt/conda/bin from PATH\n",
      "prepending /opt/conda/envs/python2/bin to PATH\n",
      "Collecting Theano==0.8.0 (from -r https://raw.githubusercontent.com/Lasagne/Lasagne/master/requirements.txt (line 1))\n",
      "  Downloading Theano-0.8.0.tar.gz (2.9MB)\n",
      "\u001b[K    100% |████████████████████████████████| 2.9MB 483kB/s \n",
      "\u001b[?25hRequirement already satisfied (use --upgrade to upgrade): numpy>=1.7.1 in /opt/conda/envs/python2/lib/python2.7/site-packages (from Theano==0.8.0->-r https://raw.githubusercontent.com/Lasagne/Lasagne/master/requirements.txt (line 1))\n",
      "Requirement already satisfied (use --upgrade to upgrade): scipy>=0.11 in /opt/conda/envs/python2/lib/python2.7/site-packages (from Theano==0.8.0->-r https://raw.githubusercontent.com/Lasagne/Lasagne/master/requirements.txt (line 1))\n",
      "Requirement already satisfied (use --upgrade to upgrade): six>=1.9.0 in /opt/conda/envs/python2/lib/python2.7/site-packages (from Theano==0.8.0->-r https://raw.githubusercontent.com/Lasagne/Lasagne/master/requirements.txt (line 1))\n",
      "Building wheels for collected packages: Theano\n",
      "  Running setup.py bdist_wheel for Theano ... \u001b[?25l-\b \b\\\b \b|\b \bdone\n",
      "\u001b[?25h  Stored in directory: /home/jovyan/.cache/pip/wheels/36/76/6c/9d74e5d4b3891d22ef82bc1e1b1fb4dadf026cd199bc08371c\n",
      "Successfully built Theano\n",
      "Installing collected packages: Theano\n",
      "  Found existing installation: Theano 0.7.0\n",
      "\u001b[33m    DEPRECATION: Uninstalling a distutils installed project (Theano) has been deprecated and will be removed in a future version. This is due to the fact that uninstalling a distutils project will only partially uninstall the project.\u001b[0m\n",
      "    Uninstalling Theano-0.7.0:\n",
      "      Successfully uninstalled Theano-0.7.0\n",
      "Successfully installed Theano-0.8.1\n"
     ]
    }
   ],
   "source": [
    "!pip2 install -r https://raw.githubusercontent.com/Lasagne/Lasagne/master/requirements.txt"
   ]
  },
  {
   "cell_type": "code",
   "execution_count": 50,
   "metadata": {
    "collapsed": false
   },
   "outputs": [
    {
     "name": "stdout",
     "output_type": "stream",
     "text": [
      "discarding /opt/conda/bin from PATH\n",
      "prepending /opt/conda/envs/python2/bin to PATH\n",
      "Collecting https://github.com/Lasagne/Lasagne/archive/master.zip\n",
      "  Downloading https://github.com/Lasagne/Lasagne/archive/master.zip\n",
      "\u001b[K     / 204kB 44.8MB/s\n",
      "Requirement already satisfied (use --upgrade to upgrade): numpy in /opt/conda/envs/python2/lib/python2.7/site-packages (from Lasagne==0.2.dev1)\n",
      "Installing collected packages: Lasagne\n",
      "  Running setup.py install for Lasagne ... \u001b[?25l-\b \b\\\b \bdone\n",
      "\u001b[?25hSuccessfully installed Lasagne-0.2.dev1\n"
     ]
    }
   ],
   "source": [
    "!pip2 install https://github.com/Lasagne/Lasagne/archive/master.zip"
   ]
  },
  {
   "cell_type": "code",
   "execution_count": 55,
   "metadata": {
    "collapsed": false
   },
   "outputs": [
    {
     "name": "stdout",
     "output_type": "stream",
     "text": [
      "discarding /opt/conda/bin from PATH\n",
      "prepending /opt/conda/envs/python2/bin to PATH\n",
      "Fetching package metadata: ......\n",
      "# All requested packages already installed.\n",
      "# packages in environment at /opt/conda/envs/python2:\n",
      "#\n",
      "theano                    0.7.0               np110py27_0  \n"
     ]
    }
   ],
   "source": [
    "!conda2 update theano"
   ]
  },
  {
   "cell_type": "code",
   "execution_count": 66,
   "metadata": {
    "collapsed": false
   },
   "outputs": [
    {
     "name": "stdout",
     "output_type": "stream",
     "text": [
      "discarding /opt/conda/bin from PATH\n",
      "prepending /opt/conda/envs/python2/bin to PATH\n",
      "Requirement already up-to-date: theano in /opt/conda/envs/python2/lib/python2.7/site-packages\n",
      "Requirement already up-to-date: six>=1.9.0 in /opt/conda/envs/python2/lib/python2.7/site-packages (from theano)\n",
      "Requirement already up-to-date: scipy>=0.11 in /opt/conda/envs/python2/lib/python2.7/site-packages (from theano)\n",
      "Collecting numpy>=1.7.1 (from theano)\n",
      "  Downloading numpy-1.11.0-cp27-cp27mu-manylinux1_x86_64.whl (15.3MB)\n",
      "\u001b[K    100% |████████████████████████████████| 15.3MB 104kB/s \n",
      "\u001b[?25hInstalling collected packages: numpy\n",
      "  Found existing installation: numpy 1.10.4\n",
      "\u001b[33m    DEPRECATION: Uninstalling a distutils installed project (numpy) has been deprecated and will be removed in a future version. This is due to the fact that uninstalling a distutils project will only partially uninstall the project.\u001b[0m\n",
      "    Uninstalling numpy-1.10.4:\n",
      "      Successfully uninstalled numpy-1.10.4\n",
      "Successfully installed numpy-1.11.0\n"
     ]
    }
   ],
   "source": [
    "!pip2 install -U theano"
   ]
  },
  {
   "cell_type": "code",
   "execution_count": 46,
   "metadata": {
    "collapsed": false
   },
   "outputs": [],
   "source": [
    "import lasagne\n",
    "\n",
    "input_X = T.tensor4(\"X\")\n",
    "\n",
    "#input dimention (None means \"Arbitrary\" and only works at  the first axes [samples])\n",
    "input_shape = [None,1,28,28]\n",
    "\n",
    "target_y = T.vector(\"target Y integer\",dtype='int32')"
   ]
  },
  {
   "cell_type": "markdown",
   "metadata": {},
   "source": [
    "Defining network architecture"
   ]
  },
  {
   "cell_type": "code",
   "execution_count": 48,
   "metadata": {
    "collapsed": false
   },
   "outputs": [],
   "source": [
    "#Input layer (auxilary)\n",
    "input_layer = lasagne.layers.InputLayer(shape = input_shape,input_var=input_X)\n",
    "\n",
    "#fully connected layer, that takes input layer and applies 50 neurons to it.\n",
    "# nonlinearity here is sigmoid as in logistic regression\n",
    "# you can give a name to each layer (optional)\n",
    "dense_1 = lasagne.layers.DenseLayer(input_layer,num_units=50,\n",
    "                                   nonlinearity = lasagne.nonlinearities.sigmoid,\n",
    "                                   name = \"hidden_dense_layer\")\n",
    "\n",
    "#fully connected output layer that takes dense_1 as input and has 10 neurons (1 for each digit)\n",
    "#We use softmax nonlinearity to make probabilities add up to 1\n",
    "dense_output = lasagne.layers.DenseLayer(dense_1,num_units = 10,\n",
    "                                        nonlinearity = lasagne.nonlinearities.softmax,\n",
    "                                        name='output')\n"
   ]
  },
  {
   "cell_type": "code",
   "execution_count": 49,
   "metadata": {
    "collapsed": false
   },
   "outputs": [],
   "source": [
    "#network prediction (theano-transformation)\n",
    "y_predicted = lasagne.layers.get_output(dense_output)"
   ]
  },
  {
   "cell_type": "code",
   "execution_count": 50,
   "metadata": {
    "collapsed": false
   },
   "outputs": [
    {
     "name": "stdout",
     "output_type": "stream",
     "text": [
      "[hidden_dense_layer.W, hidden_dense_layer.b, output.W, output.b]\n",
      "0.2.dev1\n"
     ]
    }
   ],
   "source": [
    "#all network weights (shared variables)\n",
    "all_weights = lasagne.layers.get_all_params(dense_output)\n",
    "print all_weights\n",
    "\n",
    "print lasagne.__version__"
   ]
  },
  {
   "cell_type": "markdown",
   "metadata": {},
   "source": [
    "### Than you could simply\n",
    "* define loss function manually\n",
    "* compute error gradient over all weights\n",
    "* define updates\n",
    "* But that's a whole lot of work and life's short\n",
    "  * not to mention life's too short to wait for SGD to converge\n",
    "\n",
    "Instead, we shall use Lasagne builtins"
   ]
  },
  {
   "cell_type": "code",
   "execution_count": 51,
   "metadata": {
    "collapsed": false
   },
   "outputs": [],
   "source": [
    "#Mean categorical crossentropy as a loss function - similar to logistic loss but for multiclass targets\n",
    "loss = lasagne.objectives.categorical_crossentropy(y_predicted,target_y).mean()\n",
    "\n",
    "#prediction accuracy\n",
    "#accuracy = lasagne.objectives.categorical_accuracy(y_predicted,target_y).mean()\n",
    "accuracy = lasagne.objectives.categorical_accuracy(y_predicted,target_y).mean()\n",
    "\n",
    "#This function computes gradient AND composes weight updates just like you did earlier\n",
    "updates_sgd = lasagne.updates.sgd(loss, all_weights,learning_rate=0.01)"
   ]
  },
  {
   "cell_type": "code",
   "execution_count": 52,
   "metadata": {
    "collapsed": false
   },
   "outputs": [],
   "source": [
    "#function that computes loss and updates weights\n",
    "train_fun = theano.function([input_X,target_y],[loss,accuracy],updates= updates_sgd)\n",
    "\n",
    "#function that just computes accuracy\n",
    "accuracy_fun = theano.function([input_X,target_y],accuracy)"
   ]
  },
  {
   "cell_type": "markdown",
   "metadata": {},
   "source": [
    "### That's all, now let's train it!\n",
    "* We got a lot of data, so it's recommended that you use SGD\n",
    "* So let's implement a function that splits the training sample into minibatches"
   ]
  },
  {
   "cell_type": "code",
   "execution_count": 43,
   "metadata": {
    "collapsed": true
   },
   "outputs": [],
   "source": [
    "# An auxilary function that returns mini-batches for neural network training\n",
    "\n",
    "#Parameters\n",
    "# X - a tensor of images with shape (many, 1, 28, 28), e.g. X_train\n",
    "# y - a vector of answers for corresponding images e.g. Y_train\n",
    "#batch_size - a single number - the intended size of each batches\n",
    "\n",
    "#What do need to implement\n",
    "# 1) Shuffle data\n",
    "# - Gotta shuffle X and y the same way not to break the correspondence between X_i and y_i\n",
    "# 3) Split data into minibatches of batch_size\n",
    "# - If data size is not a multiple of batch_size, make one last batch smaller.\n",
    "# 4) return a list (or an iterator) of pairs\n",
    "# - (подгруппа картинок, ответы из y на эту подгруппу)\n",
    "def iterate_minibatches(X, y, batchsize):\n",
    "    #<return an iterable of (X_batch, y_batch)  batches of images and answers for them>\n",
    "    for start_idx in range(0, len(X) - batchsize + 1, batchsize):\n",
    "        excerpt = slice(start_idx, start_idx + batchsize)\n",
    "\n",
    "        yield X[excerpt], y[excerpt]\n",
    "\n",
    "\n",
    "# You feel lost and wish you stayed home tonight?\n",
    "# Go search for a similar function at\n",
    "# https://github.com/Lasagne/Lasagne/blob/master/examples/mnist.py"
   ]
  },
  {
   "cell_type": "markdown",
   "metadata": {},
   "source": [
    "# Training loop"
   ]
  },
  {
   "cell_type": "code",
   "execution_count": 53,
   "metadata": {
    "collapsed": false,
    "scrolled": true
   },
   "outputs": [
    {
     "name": "stdout",
     "output_type": "stream",
     "text": [
      "Epoch 1 of 100 took 0.680s\n",
      "  training loss (in-iteration):\t\t1.891466\n",
      "  train accuracy:\t\t59.22 %\n",
      "  validation accuracy:\t\t76.44 %\n",
      "Epoch 2 of 100 took 0.578s\n",
      "  training loss (in-iteration):\t\t1.207440\n",
      "  train accuracy:\t\t77.45 %\n",
      "  validation accuracy:\t\t82.86 %\n",
      "Epoch 3 of 100 took 0.579s\n",
      "  training loss (in-iteration):\t\t0.867198\n",
      "  train accuracy:\t\t82.33 %\n",
      "  validation accuracy:\t\t85.88 %\n",
      "Epoch 4 of 100 took 0.579s\n",
      "  training loss (in-iteration):\t\t0.701928\n",
      "  train accuracy:\t\t84.59 %\n",
      "  validation accuracy:\t\t87.36 %\n",
      "Epoch 5 of 100 took 0.578s\n",
      "  training loss (in-iteration):\t\t0.606487\n",
      "  train accuracy:\t\t86.09 %\n",
      "  validation accuracy:\t\t88.07 %\n",
      "Epoch 6 of 100 took 0.586s\n",
      "  training loss (in-iteration):\t\t0.544073\n",
      "  train accuracy:\t\t86.98 %\n",
      "  validation accuracy:\t\t88.72 %\n",
      "Epoch 7 of 100 took 0.769s\n",
      "  training loss (in-iteration):\t\t0.499996\n",
      "  train accuracy:\t\t87.63 %\n",
      "  validation accuracy:\t\t89.22 %\n",
      "Epoch 8 of 100 took 0.637s\n",
      "  training loss (in-iteration):\t\t0.467208\n",
      "  train accuracy:\t\t88.15 %\n",
      "  validation accuracy:\t\t89.57 %\n",
      "Epoch 9 of 100 took 0.579s\n",
      "  training loss (in-iteration):\t\t0.441849\n",
      "  train accuracy:\t\t88.51 %\n",
      "  validation accuracy:\t\t89.93 %\n",
      "Epoch 10 of 100 took 0.579s\n",
      "  training loss (in-iteration):\t\t0.421608\n",
      "  train accuracy:\t\t88.88 %\n",
      "  validation accuracy:\t\t90.17 %\n",
      "Epoch 11 of 100 took 0.580s\n",
      "  training loss (in-iteration):\t\t0.405023\n",
      "  train accuracy:\t\t89.17 %\n",
      "  validation accuracy:\t\t90.32 %\n",
      "Epoch 12 of 100 took 0.579s\n",
      "  training loss (in-iteration):\t\t0.391127\n",
      "  train accuracy:\t\t89.48 %\n",
      "  validation accuracy:\t\t90.50 %\n",
      "Epoch 13 of 100 took 0.579s\n",
      "  training loss (in-iteration):\t\t0.379259\n",
      "  train accuracy:\t\t89.69 %\n",
      "  validation accuracy:\t\t90.73 %\n",
      "Epoch 14 of 100 took 0.580s\n",
      "  training loss (in-iteration):\t\t0.368956\n",
      "  train accuracy:\t\t89.90 %\n",
      "  validation accuracy:\t\t90.87 %\n",
      "Epoch 15 of 100 took 0.579s\n",
      "  training loss (in-iteration):\t\t0.359884\n",
      "  train accuracy:\t\t90.11 %\n",
      "  validation accuracy:\t\t90.99 %\n",
      "Epoch 16 of 100 took 0.579s\n",
      "  training loss (in-iteration):\t\t0.351798\n",
      "  train accuracy:\t\t90.29 %\n",
      "  validation accuracy:\t\t91.12 %\n",
      "Epoch 17 of 100 took 0.580s\n",
      "  training loss (in-iteration):\t\t0.344513\n",
      "  train accuracy:\t\t90.48 %\n",
      "  validation accuracy:\t\t91.29 %\n",
      "Epoch 18 of 100 took 0.579s\n",
      "  training loss (in-iteration):\t\t0.337888\n",
      "  train accuracy:\t\t90.65 %\n",
      "  validation accuracy:\t\t91.40 %\n",
      "Epoch 19 of 100 took 0.580s\n",
      "  training loss (in-iteration):\t\t0.331814\n",
      "  train accuracy:\t\t90.74 %\n",
      "  validation accuracy:\t\t91.51 %\n",
      "Epoch 20 of 100 took 0.579s\n",
      "  training loss (in-iteration):\t\t0.326206\n",
      "  train accuracy:\t\t90.92 %\n",
      "  validation accuracy:\t\t91.65 %\n",
      "Epoch 21 of 100 took 0.579s\n",
      "  training loss (in-iteration):\t\t0.320995\n",
      "  train accuracy:\t\t91.05 %\n",
      "  validation accuracy:\t\t91.70 %\n",
      "Epoch 22 of 100 took 0.579s\n",
      "  training loss (in-iteration):\t\t0.316125\n",
      "  train accuracy:\t\t91.18 %\n",
      "  validation accuracy:\t\t91.76 %\n",
      "Epoch 23 of 100 took 0.579s\n",
      "  training loss (in-iteration):\t\t0.311552\n",
      "  train accuracy:\t\t91.27 %\n",
      "  validation accuracy:\t\t91.90 %\n",
      "Epoch 24 of 100 took 0.579s\n",
      "  training loss (in-iteration):\t\t0.307239\n",
      "  train accuracy:\t\t91.36 %\n",
      "  validation accuracy:\t\t91.98 %\n",
      "Epoch 25 of 100 took 0.578s\n",
      "  training loss (in-iteration):\t\t0.303154\n",
      "  train accuracy:\t\t91.50 %\n",
      "  validation accuracy:\t\t92.07 %\n",
      "Epoch 26 of 100 took 0.579s\n",
      "  training loss (in-iteration):\t\t0.299273\n",
      "  train accuracy:\t\t91.61 %\n",
      "  validation accuracy:\t\t92.16 %\n",
      "Epoch 27 of 100 took 0.579s\n",
      "  training loss (in-iteration):\t\t0.295573\n",
      "  train accuracy:\t\t91.68 %\n",
      "  validation accuracy:\t\t92.24 %\n",
      "Epoch 28 of 100 took 0.579s\n",
      "  training loss (in-iteration):\t\t0.292037\n",
      "  train accuracy:\t\t91.75 %\n",
      "  validation accuracy:\t\t92.33 %\n",
      "Epoch 29 of 100 took 0.579s\n",
      "  training loss (in-iteration):\t\t0.288649\n",
      "  train accuracy:\t\t91.86 %\n",
      "  validation accuracy:\t\t92.41 %\n",
      "Epoch 30 of 100 took 0.578s\n",
      "  training loss (in-iteration):\t\t0.285396\n",
      "  train accuracy:\t\t91.96 %\n",
      "  validation accuracy:\t\t92.50 %\n",
      "Epoch 31 of 100 took 0.578s\n",
      "  training loss (in-iteration):\t\t0.282265\n",
      "  train accuracy:\t\t92.03 %\n",
      "  validation accuracy:\t\t92.53 %\n",
      "Epoch 32 of 100 took 0.579s\n",
      "  training loss (in-iteration):\t\t0.279247\n",
      "  train accuracy:\t\t92.10 %\n",
      "  validation accuracy:\t\t92.61 %\n",
      "Epoch 33 of 100 took 0.578s\n",
      "  training loss (in-iteration):\t\t0.276333\n",
      "  train accuracy:\t\t92.18 %\n",
      "  validation accuracy:\t\t92.68 %\n",
      "Epoch 34 of 100 took 0.579s\n",
      "  training loss (in-iteration):\t\t0.273516\n",
      "  train accuracy:\t\t92.25 %\n",
      "  validation accuracy:\t\t92.78 %\n",
      "Epoch 35 of 100 took 0.579s\n",
      "  training loss (in-iteration):\t\t0.270789\n",
      "  train accuracy:\t\t92.34 %\n",
      "  validation accuracy:\t\t92.85 %\n",
      "Epoch 36 of 100 took 0.579s\n",
      "  training loss (in-iteration):\t\t0.268145\n",
      "  train accuracy:\t\t92.42 %\n",
      "  validation accuracy:\t\t92.92 %\n",
      "Epoch 37 of 100 took 0.579s\n",
      "  training loss (in-iteration):\t\t0.265580\n",
      "  train accuracy:\t\t92.51 %\n",
      "  validation accuracy:\t\t92.96 %\n",
      "Epoch 38 of 100 took 0.578s\n",
      "  training loss (in-iteration):\t\t0.263088\n",
      "  train accuracy:\t\t92.57 %\n",
      "  validation accuracy:\t\t93.09 %\n",
      "Epoch 39 of 100 took 0.578s\n",
      "  training loss (in-iteration):\t\t0.260666\n",
      "  train accuracy:\t\t92.67 %\n",
      "  validation accuracy:\t\t93.08 %\n",
      "Epoch 40 of 100 took 0.579s\n",
      "  training loss (in-iteration):\t\t0.258309\n",
      "  train accuracy:\t\t92.71 %\n",
      "  validation accuracy:\t\t93.13 %\n",
      "Epoch 41 of 100 took 0.578s\n",
      "  training loss (in-iteration):\t\t0.256013\n",
      "  train accuracy:\t\t92.77 %\n",
      "  validation accuracy:\t\t93.21 %\n",
      "Epoch 42 of 100 took 0.579s\n",
      "  training loss (in-iteration):\t\t0.253777\n",
      "  train accuracy:\t\t92.86 %\n",
      "  validation accuracy:\t\t93.33 %\n",
      "Epoch 43 of 100 took 0.579s\n",
      "  training loss (in-iteration):\t\t0.251596\n",
      "  train accuracy:\t\t92.91 %\n",
      "  validation accuracy:\t\t93.37 %\n",
      "Epoch 44 of 100 took 0.579s\n",
      "  training loss (in-iteration):\t\t0.249468\n",
      "  train accuracy:\t\t92.97 %\n",
      "  validation accuracy:\t\t93.43 %\n",
      "Epoch 45 of 100 took 0.579s\n",
      "  training loss (in-iteration):\t\t0.247390\n",
      "  train accuracy:\t\t93.05 %\n",
      "  validation accuracy:\t\t93.47 %\n",
      "Epoch 46 of 100 took 0.580s\n",
      "  training loss (in-iteration):\t\t0.245361\n",
      "  train accuracy:\t\t93.11 %\n",
      "  validation accuracy:\t\t93.55 %\n",
      "Epoch 47 of 100 took 0.578s\n",
      "  training loss (in-iteration):\t\t0.243377\n",
      "  train accuracy:\t\t93.17 %\n",
      "  validation accuracy:\t\t93.61 %\n",
      "Epoch 48 of 100 took 0.578s\n",
      "  training loss (in-iteration):\t\t0.241437\n",
      "  train accuracy:\t\t93.21 %\n",
      "  validation accuracy:\t\t93.65 %\n",
      "Epoch 49 of 100 took 0.585s\n",
      "  training loss (in-iteration):\t\t0.239540\n",
      "  train accuracy:\t\t93.26 %\n",
      "  validation accuracy:\t\t93.67 %\n",
      "Epoch 50 of 100 took 0.580s\n",
      "  training loss (in-iteration):\t\t0.237682\n",
      "  train accuracy:\t\t93.30 %\n",
      "  validation accuracy:\t\t93.81 %\n",
      "Epoch 51 of 100 took 0.578s\n",
      "  training loss (in-iteration):\t\t0.235863\n",
      "  train accuracy:\t\t93.36 %\n",
      "  validation accuracy:\t\t93.86 %\n",
      "Epoch 52 of 100 took 0.579s\n",
      "  training loss (in-iteration):\t\t0.234082\n",
      "  train accuracy:\t\t93.41 %\n",
      "  validation accuracy:\t\t93.86 %\n",
      "Epoch 53 of 100 took 0.579s\n",
      "  training loss (in-iteration):\t\t0.232336\n",
      "  train accuracy:\t\t93.46 %\n",
      "  validation accuracy:\t\t93.89 %\n",
      "Epoch 54 of 100 took 0.578s\n",
      "  training loss (in-iteration):\t\t0.230624\n",
      "  train accuracy:\t\t93.50 %\n",
      "  validation accuracy:\t\t93.94 %\n",
      "Epoch 55 of 100 took 0.579s\n",
      "  training loss (in-iteration):\t\t0.228946\n",
      "  train accuracy:\t\t93.54 %\n",
      "  validation accuracy:\t\t93.99 %\n",
      "Epoch 56 of 100 took 0.578s\n",
      "  training loss (in-iteration):\t\t0.227299\n",
      "  train accuracy:\t\t93.58 %\n",
      "  validation accuracy:\t\t94.01 %\n",
      "Epoch 57 of 100 took 0.578s\n",
      "  training loss (in-iteration):\t\t0.225683\n",
      "  train accuracy:\t\t93.63 %\n",
      "  validation accuracy:\t\t94.05 %\n",
      "Epoch 58 of 100 took 0.579s\n",
      "  training loss (in-iteration):\t\t0.224097\n",
      "  train accuracy:\t\t93.69 %\n",
      "  validation accuracy:\t\t94.12 %\n",
      "Epoch 59 of 100 took 0.578s\n",
      "  training loss (in-iteration):\t\t0.222539\n",
      "  train accuracy:\t\t93.72 %\n",
      "  validation accuracy:\t\t94.16 %\n",
      "Epoch 60 of 100 took 0.579s\n",
      "  training loss (in-iteration):\t\t0.221010\n",
      "  train accuracy:\t\t93.77 %\n",
      "  validation accuracy:\t\t94.23 %\n",
      "Epoch 61 of 100 took 0.578s\n",
      "  training loss (in-iteration):\t\t0.219507\n",
      "  train accuracy:\t\t93.79 %\n",
      "  validation accuracy:\t\t94.23 %\n",
      "Epoch 62 of 100 took 0.578s\n",
      "  training loss (in-iteration):\t\t0.218030\n",
      "  train accuracy:\t\t93.83 %\n",
      "  validation accuracy:\t\t94.29 %\n",
      "Epoch 63 of 100 took 0.579s\n",
      "  training loss (in-iteration):\t\t0.216578\n",
      "  train accuracy:\t\t93.87 %\n",
      "  validation accuracy:\t\t94.36 %\n",
      "Epoch 64 of 100 took 0.578s\n",
      "  training loss (in-iteration):\t\t0.215151\n",
      "  train accuracy:\t\t93.89 %\n",
      "  validation accuracy:\t\t94.37 %\n",
      "Epoch 65 of 100 took 0.578s\n",
      "  training loss (in-iteration):\t\t0.213747\n",
      "  train accuracy:\t\t93.91 %\n",
      "  validation accuracy:\t\t94.35 %\n",
      "Epoch 66 of 100 took 0.579s\n",
      "  training loss (in-iteration):\t\t0.212366\n",
      "  train accuracy:\t\t93.95 %\n",
      "  validation accuracy:\t\t94.36 %\n",
      "Epoch 67 of 100 took 0.578s\n",
      "  training loss (in-iteration):\t\t0.211008\n",
      "  train accuracy:\t\t93.99 %\n",
      "  validation accuracy:\t\t94.41 %\n",
      "Epoch 68 of 100 took 0.579s\n",
      "  training loss (in-iteration):\t\t0.209671\n",
      "  train accuracy:\t\t94.03 %\n",
      "  validation accuracy:\t\t94.45 %\n",
      "Epoch 69 of 100 took 0.578s\n",
      "  training loss (in-iteration):\t\t0.208355\n",
      "  train accuracy:\t\t94.08 %\n",
      "  validation accuracy:\t\t94.48 %\n",
      "Epoch 70 of 100 took 0.578s\n",
      "  training loss (in-iteration):\t\t0.207060\n",
      "  train accuracy:\t\t94.11 %\n",
      "  validation accuracy:\t\t94.49 %\n",
      "Epoch 71 of 100 took 0.579s\n",
      "  training loss (in-iteration):\t\t0.205784\n",
      "  train accuracy:\t\t94.14 %\n",
      "  validation accuracy:\t\t94.58 %\n",
      "Epoch 72 of 100 took 0.989s\n",
      "  training loss (in-iteration):\t\t0.204528\n",
      "  train accuracy:\t\t94.16 %\n",
      "  validation accuracy:\t\t94.63 %\n",
      "Epoch 73 of 100 took 0.579s\n",
      "  training loss (in-iteration):\t\t0.203290\n",
      "  train accuracy:\t\t94.19 %\n",
      "  validation accuracy:\t\t94.70 %\n",
      "Epoch 74 of 100 took 0.589s\n",
      "  training loss (in-iteration):\t\t0.202071\n",
      "  train accuracy:\t\t94.22 %\n",
      "  validation accuracy:\t\t94.70 %\n",
      "Epoch 75 of 100 took 0.579s\n",
      "  training loss (in-iteration):\t\t0.200870\n",
      "  train accuracy:\t\t94.26 %\n",
      "  validation accuracy:\t\t94.74 %\n",
      "Epoch 76 of 100 took 0.578s\n",
      "  training loss (in-iteration):\t\t0.199686\n",
      "  train accuracy:\t\t94.28 %\n",
      "  validation accuracy:\t\t94.76 %\n",
      "Epoch 77 of 100 took 0.579s\n",
      "  training loss (in-iteration):\t\t0.198519\n",
      "  train accuracy:\t\t94.31 %\n",
      "  validation accuracy:\t\t94.78 %\n",
      "Epoch 78 of 100 took 0.579s\n",
      "  training loss (in-iteration):\t\t0.197368\n",
      "  train accuracy:\t\t94.34 %\n",
      "  validation accuracy:\t\t94.84 %\n",
      "Epoch 79 of 100 took 0.579s\n",
      "  training loss (in-iteration):\t\t0.196233\n",
      "  train accuracy:\t\t94.37 %\n",
      "  validation accuracy:\t\t94.91 %\n",
      "Epoch 80 of 100 took 0.578s\n",
      "  training loss (in-iteration):\t\t0.195114\n",
      "  train accuracy:\t\t94.40 %\n",
      "  validation accuracy:\t\t94.92 %\n",
      "Epoch 81 of 100 took 0.579s\n",
      "  training loss (in-iteration):\t\t0.194010\n",
      "  train accuracy:\t\t94.45 %\n",
      "  validation accuracy:\t\t94.94 %\n",
      "Epoch 82 of 100 took 0.578s\n",
      "  training loss (in-iteration):\t\t0.192922\n",
      "  train accuracy:\t\t94.50 %\n",
      "  validation accuracy:\t\t94.96 %\n",
      "Epoch 83 of 100 took 0.579s\n",
      "  training loss (in-iteration):\t\t0.191847\n",
      "  train accuracy:\t\t94.53 %\n",
      "  validation accuracy:\t\t94.98 %\n",
      "Epoch 84 of 100 took 0.578s\n",
      "  training loss (in-iteration):\t\t0.190787\n",
      "  train accuracy:\t\t94.57 %\n",
      "  validation accuracy:\t\t94.99 %\n",
      "Epoch 85 of 100 took 0.579s\n",
      "  training loss (in-iteration):\t\t0.189741\n",
      "  train accuracy:\t\t94.60 %\n",
      "  validation accuracy:\t\t95.02 %\n",
      "Epoch 86 of 100 took 0.583s\n",
      "  training loss (in-iteration):\t\t0.188708\n",
      "  train accuracy:\t\t94.65 %\n",
      "  validation accuracy:\t\t95.04 %\n",
      "Epoch 87 of 100 took 0.578s\n",
      "  training loss (in-iteration):\t\t0.187688\n",
      "  train accuracy:\t\t94.69 %\n",
      "  validation accuracy:\t\t95.07 %\n",
      "Epoch 88 of 100 took 0.579s\n",
      "  training loss (in-iteration):\t\t0.186681\n",
      "  train accuracy:\t\t94.70 %\n",
      "  validation accuracy:\t\t95.08 %\n",
      "Epoch 89 of 100 took 0.578s\n",
      "  training loss (in-iteration):\t\t0.185687\n",
      "  train accuracy:\t\t94.73 %\n",
      "  validation accuracy:\t\t95.11 %\n",
      "Epoch 90 of 100 took 0.578s\n",
      "  training loss (in-iteration):\t\t0.184705\n",
      "  train accuracy:\t\t94.77 %\n",
      "  validation accuracy:\t\t95.14 %\n",
      "Epoch 91 of 100 took 0.579s\n",
      "  training loss (in-iteration):\t\t0.183736\n",
      "  train accuracy:\t\t94.79 %\n",
      "  validation accuracy:\t\t95.15 %\n",
      "Epoch 92 of 100 took 0.578s\n",
      "  training loss (in-iteration):\t\t0.182778\n",
      "  train accuracy:\t\t94.82 %\n",
      "  validation accuracy:\t\t95.19 %\n",
      "Epoch 93 of 100 took 0.584s\n",
      "  training loss (in-iteration):\t\t0.181831\n",
      "  train accuracy:\t\t94.84 %\n",
      "  validation accuracy:\t\t95.19 %\n",
      "Epoch 94 of 100 took 0.578s\n",
      "  training loss (in-iteration):\t\t0.180896\n",
      "  train accuracy:\t\t94.87 %\n",
      "  validation accuracy:\t\t95.19 %\n",
      "Epoch 95 of 100 took 0.578s\n",
      "  training loss (in-iteration):\t\t0.179972\n",
      "  train accuracy:\t\t94.90 %\n",
      "  validation accuracy:\t\t95.22 %\n",
      "Epoch 96 of 100 took 0.579s\n",
      "  training loss (in-iteration):\t\t0.179059\n",
      "  train accuracy:\t\t94.93 %\n",
      "  validation accuracy:\t\t95.26 %\n",
      "Epoch 97 of 100 took 0.579s\n",
      "  training loss (in-iteration):\t\t0.178156\n",
      "  train accuracy:\t\t94.95 %\n",
      "  validation accuracy:\t\t95.27 %\n",
      "Epoch 98 of 100 took 0.579s\n",
      "  training loss (in-iteration):\t\t0.177264\n",
      "  train accuracy:\t\t94.98 %\n",
      "  validation accuracy:\t\t95.29 %\n",
      "Epoch 99 of 100 took 0.579s\n",
      "  training loss (in-iteration):\t\t0.176382\n",
      "  train accuracy:\t\t95.00 %\n",
      "  validation accuracy:\t\t95.31 %\n",
      "Epoch 100 of 100 took 0.579s\n",
      "  training loss (in-iteration):\t\t0.175510\n",
      "  train accuracy:\t\t95.04 %\n",
      "  validation accuracy:\t\t95.33 %\n"
     ]
    }
   ],
   "source": [
    "import time\n",
    "\n",
    "num_epochs = 100 #amount of passes through the data\n",
    "\n",
    "batch_size = 50 #number of samples processed at each function call\n",
    "\n",
    "for epoch in range(num_epochs):\n",
    "    # In each epoch, we do a full pass over the training data:\n",
    "    train_err = 0\n",
    "    train_acc = 0\n",
    "    train_batches = 0\n",
    "    start_time = time.time()\n",
    "    for batch in iterate_minibatches(X_train, y_train,batch_size):\n",
    "        inputs, targets = batch\n",
    "        train_err_batch, train_acc_batch = train_fun(inputs, targets)\n",
    "        train_err += train_err_batch\n",
    "        train_acc += train_acc_batch\n",
    "        train_batches += 1\n",
    "\n",
    "    # And a full pass over the validation data:\n",
    "    val_acc = 0\n",
    "    val_batches = 0\n",
    "    for batch in iterate_minibatches(X_val, y_val, batch_size):\n",
    "        inputs, targets = batch\n",
    "        val_acc += accuracy_fun(inputs, targets)\n",
    "        val_batches += 1\n",
    "\n",
    "    \n",
    "    # Then we print the results for this epoch:\n",
    "    print(\"Epoch {} of {} took {:.3f}s\".format(\n",
    "        epoch + 1, num_epochs, time.time() - start_time))\n",
    "\n",
    "    print(\"  training loss (in-iteration):\\t\\t{:.6f}\".format(train_err / train_batches))\n",
    "    print(\"  train accuracy:\\t\\t{:.2f} %\".format(\n",
    "        train_acc / train_batches * 100))\n",
    "    print(\"  validation accuracy:\\t\\t{:.2f} %\".format(\n",
    "        val_acc / val_batches * 100))"
   ]
  },
  {
   "cell_type": "code",
   "execution_count": 54,
   "metadata": {
    "collapsed": false
   },
   "outputs": [
    {
     "name": "stdout",
     "output_type": "stream",
     "text": [
      "Final results:\n",
      "  test accuracy:\t\t94.77 %\n",
      "We need more magic!\n"
     ]
    }
   ],
   "source": [
    "test_acc = 0\n",
    "test_batches = 0\n",
    "for batch in iterate_minibatches(X_test, y_test, 500):\n",
    "    inputs, targets = batch\n",
    "    acc = accuracy_fun(inputs, targets)\n",
    "    test_acc += acc\n",
    "    test_batches += 1\n",
    "print(\"Final results:\")\n",
    "print(\"  test accuracy:\\t\\t{:.2f} %\".format(\n",
    "    test_acc / test_batches * 100))\n",
    "\n",
    "if test_acc / test_batches * 100 > 99:\n",
    "    print \"Achievement unlocked: 80lvl Warlock!\"\n",
    "else:\n",
    "    print \"We need more magic!\""
   ]
  },
  {
   "cell_type": "markdown",
   "metadata": {},
   "source": [
    "# A better network\n",
    "\n",
    "\n",
    "* The quest is to create a network that gets at least 99% at test set\n",
    " * In case you tried several architectures and have a __detailed__ report - 97.5% \"is fine too\". \n",
    " \n",
    "__ There is a mini-report at the end that you will have to fill in. We recommend to read it first and fill in while you are iterating. __\n",
    " \n",
    "\n",
    "## Tips on what can be done:\n",
    "\n",
    "\n",
    "\n",
    " * Network size\n",
    "   * MOAR neurons, \n",
    "   * MOAR layers, \n",
    "   * Пх'нглуи мглв'нафх Ктулху Р'льех вгах'нагл фхтагн! \n",
    "   \n",
    "   \n",
    "   \n",
    " * Regularize to prevent overfitting\n",
    "   * Add some L2 weight norm to the loss function, theano will do the rest\n",
    "   * Can be done manually or via - http://lasagne.readthedocs.org/en/latest/modules/regularization.html\n",
    "   \n",
    "   \n",
    "   \n",
    " * Better optimization - rmsprop, nesterov_momentum, adadelta, adagrad and so on.\n",
    "   * Converge faster and sometimes reach better optima\n",
    "   * It might make sense to tweak learning rate, other learning parameters, batch size and number of epochs\n",
    "   \n",
    "   \n",
    "   \n",
    " * Dropout - to prevent overfitting\n",
    "   * `lasagne.layers.DropoutLayer(prev_layer, p=probability_to_zero_out)`\n",
    "   \n",
    "   \n",
    "   \n",
    " * Convolution layers\n",
    "   * `network = lasagne.layers.Conv2DLayer(prev_layer,`\n",
    "    `                       num_filters = n_neurons,`\n",
    "    `                        filter_size = (filter width, filter height),`\n",
    "    `                        nonlinearity = some_nonlinearity)`\n",
    "   * Warning! Training convolutional networks can take long without GPU.\n",
    "     * If you are CPU-only, we still recomment to try a simple convolutional architecture\n",
    "     * a perfect option is if you can set it up to run at nighttime and check it up at the morning.\n",
    " \n",
    " * Plenty other layers and architectures\n",
    "   * http://lasagne.readthedocs.org/en/latest/modules/layers.html\n",
    "   * batch normalization, pooling, etc\n",
    "   \n",
    "   \n",
    " * Nonlinearities in the hidden layers\n",
    "   * tanh, relu, leaky relu, etc\n",
    "   \n",
    " \n",
    " \n",
    "   \n",
    "There is a template for your solution below that you can opt to use or throw away and write it your way"
   ]
  },
  {
   "cell_type": "code",
   "execution_count": 55,
   "metadata": {
    "collapsed": false
   },
   "outputs": [
    {
     "name": "stdout",
     "output_type": "stream",
     "text": [
      "(50000, 1, 28, 28) (50000,)\n"
     ]
    }
   ],
   "source": [
    "from mnist import load_dataset\n",
    "X_train,y_train,X_val,y_val,X_test,y_test = load_dataset()\n",
    "\n",
    "print X_train.shape,y_train.shape"
   ]
  },
  {
   "cell_type": "code",
   "execution_count": 56,
   "metadata": {
    "collapsed": true
   },
   "outputs": [],
   "source": [
    "import lasagne\n",
    "\n",
    "input_X = T.tensor4(\"X\")\n",
    "\n",
    "#input dimention (None means \"Arbitrary\" and only works at  the first axes [samples])\n",
    "input_shape = [None,1,28,28]\n",
    "\n",
    "target_y = T.vector(\"target Y integer\",dtype='int32')"
   ]
  },
  {
   "cell_type": "code",
   "execution_count": 59,
   "metadata": {
    "collapsed": false
   },
   "outputs": [],
   "source": [
    "#Input layer (auxilary)\n",
    "input_layer = lasagne.layers.InputLayer(shape = input_shape,input_var=input_X)\n",
    "\n",
    "#<student.code_neural_network_architecture()>\n",
    "convolutional_layer = lasagne.layers.Conv2DLayer(\n",
    "    input_layer,\n",
    "    num_filters = 24,\n",
    "    filter_size = (5, 5),\n",
    "    nonlinearity = lasagne.nonlinearities.elu\n",
    ")\n",
    "\n",
    "max_pool_layer = lasagne.layers.MaxPool2DLayer(\n",
    "    incoming = convolutional_layer,\n",
    "    pool_size = (4, 4),\n",
    "    ignore_border = True\n",
    ")\n",
    "\n",
    "dense_layer = lasagne.layers.DenseLayer(\n",
    "    max_pool_layer,\n",
    "    num_units= 100,\n",
    "    nonlinearity = lasagne.nonlinearities.elu,\n",
    "    name = 'dense_layer'\n",
    ")\n",
    "\n",
    "\n",
    "dense_output = lasagne.layers.DenseLayer(\n",
    "    dense_layer,\n",
    "    num_units = 10,\n",
    "    nonlinearity = lasagne.nonlinearities.softmax,\n",
    "    name='output'\n",
    ")\n",
    "#<your network output>"
   ]
  },
  {
   "cell_type": "code",
   "execution_count": 60,
   "metadata": {
    "collapsed": true
   },
   "outputs": [],
   "source": [
    "# Network predictions (theano-transformation)\n",
    "y_predicted = lasagne.layers.get_output(dense_output)"
   ]
  },
  {
   "cell_type": "code",
   "execution_count": 61,
   "metadata": {
    "collapsed": false
   },
   "outputs": [
    {
     "name": "stdout",
     "output_type": "stream",
     "text": [
      "[W, b, dense_layer.W, dense_layer.b, output.W, output.b]\n"
     ]
    }
   ],
   "source": [
    "#All weights (shared-varaibles)\n",
    "# \"trainable\" flag means not to return auxilary params like batch mean (for batch normalization)\n",
    "all_weights = lasagne.layers.get_all_params(dense_output,trainable=True)\n",
    "print all_weights"
   ]
  },
  {
   "cell_type": "code",
   "execution_count": 63,
   "metadata": {
    "collapsed": false
   },
   "outputs": [],
   "source": [
    "#loss function\n",
    "loss = lasagne.objectives.categorical_crossentropy(y_predicted, target_y).mean()\n",
    "\n",
    "#<loss function>\n",
    "#<optionally add regularization>\n",
    "loss +=  1e-4 * lasagne.regularization.regularize_network_params(dense_output, lasagne.regularization.l2)\n",
    "\n",
    "accuracy = lasagne.objectives.categorical_accuracy(y_predicted, target_y).mean()\n",
    "#<mean accuracy score for evaluation> \n",
    "\n",
    "#weight updates\n",
    "updates = lasagne.updates.nesterov_momentum(loss, all_weights, learning_rate=0.05, momentum=0.9)\n",
    "#<try different update methods>"
   ]
  },
  {
   "cell_type": "code",
   "execution_count": 65,
   "metadata": {
    "collapsed": false
   },
   "outputs": [],
   "source": [
    "#A function that accepts X and y, returns loss functions and performs weight updates\n",
    "train_fun = theano.function(\n",
    "    [input_X,target_y],\n",
    "    [loss,accuracy],\n",
    "    updates= updates\n",
    ")\n",
    "\n",
    "#A function that just computes accuracy given X and y\n",
    "accuracy_fun = theano.function([input_X,target_y],accuracy)"
   ]
  },
  {
   "cell_type": "code",
   "execution_count": 67,
   "metadata": {
    "collapsed": false
   },
   "outputs": [
    {
     "name": "stdout",
     "output_type": "stream",
     "text": [
      "Epoch 1 of 200 took 58.046s\n",
      "  training loss (in-iteration):\t\t0.192465\n",
      "  train accuracy:\t\t94.81 %\n",
      "  validation accuracy:\t\t98.02 %\n",
      "Epoch 2 of 200 took 58.072s\n",
      "  training loss (in-iteration):\t\t0.090716\n",
      "  train accuracy:\t\t98.20 %\n",
      "  validation accuracy:\t\t98.39 %\n",
      "Epoch 3 of 200 took 58.180s\n",
      "  training loss (in-iteration):\t\t0.074603\n",
      "  train accuracy:\t\t98.70 %\n",
      "  validation accuracy:\t\t98.81 %\n",
      "Epoch 4 of 200 took 58.242s\n",
      "  training loss (in-iteration):\t\t0.064002\n",
      "  train accuracy:\t\t99.10 %\n",
      "  validation accuracy:\t\t98.63 %\n",
      "Epoch 5 of 200 took 58.269s\n",
      "  training loss (in-iteration):\t\t0.057158\n",
      "  train accuracy:\t\t99.30 %\n",
      "  validation accuracy:\t\t98.76 %\n",
      "Epoch 6 of 200 took 58.335s\n",
      "  training loss (in-iteration):\t\t0.052887\n",
      "  train accuracy:\t\t99.47 %\n",
      "  validation accuracy:\t\t98.75 %\n",
      "Epoch 7 of 200 took 58.194s\n",
      "  training loss (in-iteration):\t\t0.048482\n",
      "  train accuracy:\t\t99.58 %\n",
      "  validation accuracy:\t\t98.83 %\n",
      "Epoch 8 of 200 took 58.434s\n",
      "  training loss (in-iteration):\t\t0.046180\n",
      "  train accuracy:\t\t99.62 %\n",
      "  validation accuracy:\t\t98.75 %\n",
      "Epoch 9 of 200 took 58.349s\n",
      "  training loss (in-iteration):\t\t0.042212\n",
      "  train accuracy:\t\t99.72 %\n",
      "  validation accuracy:\t\t98.95 %\n",
      "Epoch 10 of 200 took 58.379s\n",
      "  training loss (in-iteration):\t\t0.039679\n",
      "  train accuracy:\t\t99.77 %\n",
      "  validation accuracy:\t\t98.94 %\n",
      "Epoch 11 of 200 took 58.537s\n",
      "  training loss (in-iteration):\t\t0.038859\n",
      "  train accuracy:\t\t99.77 %\n",
      "  validation accuracy:\t\t98.93 %\n",
      "Epoch 12 of 200 took 58.369s\n",
      "  training loss (in-iteration):\t\t0.037434\n",
      "  train accuracy:\t\t99.82 %\n",
      "  validation accuracy:\t\t98.97 %\n",
      "Epoch 13 of 200 took 58.413s\n",
      "  training loss (in-iteration):\t\t0.035595\n",
      "  train accuracy:\t\t99.84 %\n",
      "  validation accuracy:\t\t98.97 %\n",
      "Epoch 14 of 200 took 58.434s\n",
      "  training loss (in-iteration):\t\t0.038956\n",
      "  train accuracy:\t\t99.71 %\n",
      "  validation accuracy:\t\t98.76 %\n",
      "Epoch 15 of 200 took 58.366s\n",
      "  training loss (in-iteration):\t\t0.037840\n",
      "  train accuracy:\t\t99.75 %\n",
      "  validation accuracy:\t\t99.02 %\n",
      "Epoch 16 of 200 took 58.377s\n",
      "  training loss (in-iteration):\t\t0.034867\n",
      "  train accuracy:\t\t99.83 %\n",
      "  validation accuracy:\t\t99.00 %\n",
      "Epoch 17 of 200 took 58.285s\n",
      "  training loss (in-iteration):\t\t0.035288\n",
      "  train accuracy:\t\t99.81 %\n",
      "  validation accuracy:\t\t98.94 %\n",
      "Epoch 18 of 200 took 58.281s\n",
      "  training loss (in-iteration):\t\t0.034341\n",
      "  train accuracy:\t\t99.84 %\n",
      "  validation accuracy:\t\t98.96 %\n",
      "Epoch 19 of 200 took 58.402s\n",
      "  training loss (in-iteration):\t\t0.036214\n",
      "  train accuracy:\t\t99.73 %\n",
      "  validation accuracy:\t\t98.90 %\n",
      "Epoch 20 of 200 took 58.319s\n",
      "  training loss (in-iteration):\t\t0.034246\n",
      "  train accuracy:\t\t99.85 %\n",
      "  validation accuracy:\t\t98.97 %\n",
      "Epoch 21 of 200 took 58.348s\n",
      "  training loss (in-iteration):\t\t0.032124\n",
      "  train accuracy:\t\t99.89 %\n",
      "  validation accuracy:\t\t99.00 %\n",
      "Epoch 22 of 200 took 58.390s\n",
      "  training loss (in-iteration):\t\t0.030215\n",
      "  train accuracy:\t\t99.93 %\n",
      "  validation accuracy:\t\t99.07 %\n",
      "Epoch 23 of 200 took 58.387s\n",
      "  training loss (in-iteration):\t\t0.031934\n",
      "  train accuracy:\t\t99.83 %\n",
      "  validation accuracy:\t\t98.99 %\n",
      "Epoch 24 of 200 took 58.389s\n",
      "  training loss (in-iteration):\t\t0.034726\n",
      "  train accuracy:\t\t99.76 %\n",
      "  validation accuracy:\t\t98.76 %\n",
      "Epoch 25 of 200 took 58.404s\n",
      "  training loss (in-iteration):\t\t0.035772\n",
      "  train accuracy:\t\t99.72 %\n",
      "  validation accuracy:\t\t98.88 %\n",
      "Epoch 26 of 200 took 58.234s\n",
      "  training loss (in-iteration):\t\t0.032447\n",
      "  train accuracy:\t\t99.88 %\n",
      "  validation accuracy:\t\t98.92 %\n",
      "Epoch 27 of 200 took 58.286s\n",
      "  training loss (in-iteration):\t\t0.033580\n",
      "  train accuracy:\t\t99.80 %\n",
      "  validation accuracy:\t\t98.98 %\n",
      "Epoch 28 of 200 took 58.485s\n",
      "  training loss (in-iteration):\t\t0.031754\n",
      "  train accuracy:\t\t99.87 %\n",
      "  validation accuracy:\t\t99.02 %\n",
      "Epoch 29 of 200 took 58.437s\n",
      "  training loss (in-iteration):\t\t0.031401\n",
      "  train accuracy:\t\t99.86 %\n",
      "  validation accuracy:\t\t99.04 %\n",
      "Epoch 30 of 200 took 58.398s\n",
      "  training loss (in-iteration):\t\t0.030859\n",
      "  train accuracy:\t\t99.86 %\n",
      "  validation accuracy:\t\t98.87 %\n",
      "Epoch 31 of 200 took 58.409s\n",
      "  training loss (in-iteration):\t\t0.032991\n",
      "  train accuracy:\t\t99.81 %\n",
      "  validation accuracy:\t\t99.03 %\n",
      "Epoch 32 of 200 took 58.381s\n",
      "  training loss (in-iteration):\t\t0.031550\n",
      "  train accuracy:\t\t99.86 %\n",
      "  validation accuracy:\t\t99.01 %\n",
      "Epoch 33 of 200 took 58.392s\n",
      "  training loss (in-iteration):\t\t0.034588\n",
      "  train accuracy:\t\t99.74 %\n",
      "  validation accuracy:\t\t98.74 %\n",
      "Epoch 34 of 200 took 58.383s\n",
      "  training loss (in-iteration):\t\t0.032613\n",
      "  train accuracy:\t\t99.84 %\n",
      "  validation accuracy:\t\t99.11 %\n",
      "Epoch 35 of 200 took 58.340s\n",
      "  training loss (in-iteration):\t\t0.032204\n",
      "  train accuracy:\t\t99.83 %\n",
      "  validation accuracy:\t\t98.91 %\n",
      "Epoch 36 of 200 took 58.377s\n",
      "  training loss (in-iteration):\t\t0.030522\n",
      "  train accuracy:\t\t99.90 %\n",
      "  validation accuracy:\t\t99.01 %\n",
      "Epoch 37 of 200 took 58.429s\n",
      "  training loss (in-iteration):\t\t0.029081\n",
      "  train accuracy:\t\t99.92 %\n",
      "  validation accuracy:\t\t98.98 %\n",
      "Epoch 38 of 200 took 58.426s\n",
      "  training loss (in-iteration):\t\t0.028269\n",
      "  train accuracy:\t\t99.93 %\n",
      "  validation accuracy:\t\t99.04 %\n",
      "Epoch 39 of 200 took 58.512s\n",
      "  training loss (in-iteration):\t\t0.028774\n",
      "  train accuracy:\t\t99.92 %\n",
      "  validation accuracy:\t\t98.95 %\n",
      "Epoch 40 of 200 took 58.427s\n",
      "  training loss (in-iteration):\t\t0.033906\n",
      "  train accuracy:\t\t99.74 %\n",
      "  validation accuracy:\t\t98.82 %\n",
      "Epoch 41 of 200 took 58.609s\n",
      "  training loss (in-iteration):\t\t0.036833\n",
      "  train accuracy:\t\t99.63 %\n",
      "  validation accuracy:\t\t98.90 %\n",
      "Epoch 42 of 200 took 58.384s\n",
      "  training loss (in-iteration):\t\t0.036462\n",
      "  train accuracy:\t\t99.70 %\n",
      "  validation accuracy:\t\t98.88 %\n",
      "Epoch 43 of 200 took 58.448s\n",
      "  training loss (in-iteration):\t\t0.037771\n",
      "  train accuracy:\t\t99.68 %\n",
      "  validation accuracy:\t\t98.97 %\n",
      "Epoch 44 of 200 took 58.311s\n",
      "  training loss (in-iteration):\t\t0.033438\n",
      "  train accuracy:\t\t99.85 %\n",
      "  validation accuracy:\t\t99.02 %\n",
      "Epoch 45 of 200 took 58.421s\n",
      "  training loss (in-iteration):\t\t0.031755\n",
      "  train accuracy:\t\t99.88 %\n",
      "  validation accuracy:\t\t99.04 %\n",
      "Epoch 46 of 200 took 58.548s\n",
      "  training loss (in-iteration):\t\t0.029291\n",
      "  train accuracy:\t\t99.94 %\n",
      "  validation accuracy:\t\t99.04 %\n",
      "Epoch 47 of 200 took 58.598s\n",
      "  training loss (in-iteration):\t\t0.028286\n",
      "  train accuracy:\t\t99.95 %\n",
      "  validation accuracy:\t\t99.02 %\n",
      "Epoch 48 of 200 took 58.614s\n",
      "  training loss (in-iteration):\t\t0.027540\n",
      "  train accuracy:\t\t99.96 %\n",
      "  validation accuracy:\t\t99.03 %\n",
      "Epoch 49 of 200 took 58.700s\n",
      "  training loss (in-iteration):\t\t0.026563\n",
      "  train accuracy:\t\t99.97 %\n",
      "  validation accuracy:\t\t99.03 %\n",
      "Epoch 50 of 200 took 58.706s\n",
      "  training loss (in-iteration):\t\t0.026393\n",
      "  train accuracy:\t\t99.97 %\n",
      "  validation accuracy:\t\t98.96 %\n",
      "Epoch 51 of 200 took 58.492s\n",
      "  training loss (in-iteration):\t\t0.036638\n",
      "  train accuracy:\t\t99.60 %\n",
      "  validation accuracy:\t\t98.39 %\n",
      "Epoch 52 of 200 took 58.345s\n",
      "  training loss (in-iteration):\t\t0.039731\n",
      "  train accuracy:\t\t99.57 %\n",
      "  validation accuracy:\t\t98.94 %\n",
      "Epoch 53 of 200 took 58.355s\n",
      "  training loss (in-iteration):\t\t0.035418\n",
      "  train accuracy:\t\t99.73 %\n",
      "  validation accuracy:\t\t98.86 %\n",
      "Epoch 54 of 200 took 58.355s\n",
      "  training loss (in-iteration):\t\t0.033124\n",
      "  train accuracy:\t\t99.83 %\n",
      "  validation accuracy:\t\t99.07 %\n",
      "Epoch 55 of 200 took 58.419s\n",
      "  training loss (in-iteration):\t\t0.029480\n",
      "  train accuracy:\t\t99.94 %\n",
      "  validation accuracy:\t\t99.02 %\n",
      "Epoch 56 of 200 took 58.517s\n",
      "  training loss (in-iteration):\t\t0.028582\n",
      "  train accuracy:\t\t99.95 %\n",
      "  validation accuracy:\t\t99.08 %\n",
      "Epoch 57 of 200 took 58.642s\n",
      "  training loss (in-iteration):\t\t0.027186\n",
      "  train accuracy:\t\t99.97 %\n",
      "  validation accuracy:\t\t99.00 %\n"
     ]
    },
    {
     "ename": "KeyboardInterrupt",
     "evalue": "",
     "output_type": "error",
     "traceback": [
      "\u001b[1;31m---------------------------------------------------------------------------\u001b[0m",
      "\u001b[1;31mKeyboardInterrupt\u001b[0m                         Traceback (most recent call last)",
      "\u001b[1;32m<ipython-input-67-7f4a2b2f70bd>\u001b[0m in \u001b[0;36m<module>\u001b[1;34m()\u001b[0m\n\u001b[0;32m     15\u001b[0m     \u001b[1;32mfor\u001b[0m \u001b[0mbatch\u001b[0m \u001b[1;32min\u001b[0m \u001b[0miterate_minibatches\u001b[0m\u001b[1;33m(\u001b[0m\u001b[0mX_train\u001b[0m\u001b[1;33m,\u001b[0m \u001b[0my_train\u001b[0m\u001b[1;33m,\u001b[0m\u001b[0mbatch_size\u001b[0m\u001b[1;33m)\u001b[0m\u001b[1;33m:\u001b[0m\u001b[1;33m\u001b[0m\u001b[0m\n\u001b[0;32m     16\u001b[0m         \u001b[0minputs\u001b[0m\u001b[1;33m,\u001b[0m \u001b[0mtargets\u001b[0m \u001b[1;33m=\u001b[0m \u001b[0mbatch\u001b[0m\u001b[1;33m\u001b[0m\u001b[0m\n\u001b[1;32m---> 17\u001b[1;33m         \u001b[0mtrain_err_batch\u001b[0m\u001b[1;33m,\u001b[0m \u001b[0mtrain_acc_batch\u001b[0m\u001b[1;33m=\u001b[0m \u001b[0mtrain_fun\u001b[0m\u001b[1;33m(\u001b[0m\u001b[0minputs\u001b[0m\u001b[1;33m,\u001b[0m \u001b[0mtargets\u001b[0m\u001b[1;33m)\u001b[0m\u001b[1;33m\u001b[0m\u001b[0m\n\u001b[0m\u001b[0;32m     18\u001b[0m         \u001b[0mtrain_err\u001b[0m \u001b[1;33m+=\u001b[0m \u001b[0mtrain_err_batch\u001b[0m\u001b[1;33m\u001b[0m\u001b[0m\n\u001b[0;32m     19\u001b[0m         \u001b[0mtrain_acc\u001b[0m \u001b[1;33m+=\u001b[0m \u001b[0mtrain_acc_batch\u001b[0m\u001b[1;33m\u001b[0m\u001b[0m\n",
      "\u001b[1;32m/opt/conda/envs/python2/lib/python2.7/site-packages/theano/compile/function_module.pyc\u001b[0m in \u001b[0;36m__call__\u001b[1;34m(self, *args, **kwargs)\u001b[0m\n\u001b[0;32m    857\u001b[0m         \u001b[0mt0_fn\u001b[0m \u001b[1;33m=\u001b[0m \u001b[0mtime\u001b[0m\u001b[1;33m.\u001b[0m\u001b[0mtime\u001b[0m\u001b[1;33m(\u001b[0m\u001b[1;33m)\u001b[0m\u001b[1;33m\u001b[0m\u001b[0m\n\u001b[0;32m    858\u001b[0m         \u001b[1;32mtry\u001b[0m\u001b[1;33m:\u001b[0m\u001b[1;33m\u001b[0m\u001b[0m\n\u001b[1;32m--> 859\u001b[1;33m             \u001b[0moutputs\u001b[0m \u001b[1;33m=\u001b[0m \u001b[0mself\u001b[0m\u001b[1;33m.\u001b[0m\u001b[0mfn\u001b[0m\u001b[1;33m(\u001b[0m\u001b[1;33m)\u001b[0m\u001b[1;33m\u001b[0m\u001b[0m\n\u001b[0m\u001b[0;32m    860\u001b[0m         \u001b[1;32mexcept\u001b[0m \u001b[0mException\u001b[0m\u001b[1;33m:\u001b[0m\u001b[1;33m\u001b[0m\u001b[0m\n\u001b[0;32m    861\u001b[0m             \u001b[1;32mif\u001b[0m \u001b[0mhasattr\u001b[0m\u001b[1;33m(\u001b[0m\u001b[0mself\u001b[0m\u001b[1;33m.\u001b[0m\u001b[0mfn\u001b[0m\u001b[1;33m,\u001b[0m \u001b[1;34m'position_of_error'\u001b[0m\u001b[1;33m)\u001b[0m\u001b[1;33m:\u001b[0m\u001b[1;33m\u001b[0m\u001b[0m\n",
      "\u001b[1;31mKeyboardInterrupt\u001b[0m: "
     ]
    }
   ],
   "source": [
    "#итерации обучения\n",
    "\n",
    "num_epochs = 200\n",
    "#<how many times to iterate over the entire training set>\n",
    "\n",
    "batch_size = 50\n",
    "#<how many samples are processed at a single function call>\n",
    "\n",
    "for epoch in range(num_epochs):\n",
    "    # In each epoch, we do a full pass over the training data:\n",
    "    train_err = 0\n",
    "    train_acc = 0\n",
    "    train_batches = 0\n",
    "    start_time = time.time()\n",
    "    for batch in iterate_minibatches(X_train, y_train,batch_size):\n",
    "        inputs, targets = batch\n",
    "        train_err_batch, train_acc_batch= train_fun(inputs, targets)\n",
    "        train_err += train_err_batch\n",
    "        train_acc += train_acc_batch\n",
    "        train_batches += 1\n",
    "\n",
    "    # And a full pass over the validation data:\n",
    "    val_acc = 0\n",
    "    val_batches = 0\n",
    "    for batch in iterate_minibatches(X_val, y_val, batch_size):\n",
    "        inputs, targets = batch\n",
    "        val_acc += accuracy_fun(inputs, targets)\n",
    "        val_batches += 1\n",
    "\n",
    "    \n",
    "    # Then we print the results for this epoch:\n",
    "    print(\"Epoch {} of {} took {:.3f}s\".format(\n",
    "        epoch + 1, num_epochs, time.time() - start_time))\n",
    "\n",
    "    print(\"  training loss (in-iteration):\\t\\t{:.6f}\".format(train_err / train_batches))\n",
    "    print(\"  train accuracy:\\t\\t{:.2f} %\".format(\n",
    "        train_acc / train_batches * 100))\n",
    "    print(\"  validation accuracy:\\t\\t{:.2f} %\".format(\n",
    "        val_acc / val_batches * 100))"
   ]
  },
  {
   "cell_type": "code",
   "execution_count": 68,
   "metadata": {
    "collapsed": false
   },
   "outputs": [
    {
     "name": "stdout",
     "output_type": "stream",
     "text": [
      "Final results:\n",
      "  test accuracy:\t\t99.04 %\n",
      "Achievement unlocked: 80lvl Warlock!\n"
     ]
    }
   ],
   "source": [
    "test_acc = 0\n",
    "test_batches = 0\n",
    "for batch in iterate_minibatches(X_test, y_test, 500):\n",
    "    inputs, targets = batch\n",
    "    acc = accuracy_fun(inputs, targets)\n",
    "    test_acc += acc\n",
    "    test_batches += 1\n",
    "print(\"Final results:\")\n",
    "print(\"  test accuracy:\\t\\t{:.2f} %\".format(\n",
    "    test_acc / test_batches * 100))\n",
    "\n",
    "if test_acc / test_batches * 100 > 99:\n",
    "    print \"Achievement unlocked: 80lvl Warlock!\"\n",
    "else:\n",
    "    print \"We need more magic!\""
   ]
  },
  {
   "cell_type": "markdown",
   "metadata": {},
   "source": [
    "Report\n",
    "\n",
    "All creative approaches are highly welcome, but at the very least it would be great to mention\n",
    "* the idea;\n",
    "* brief history of tweaks and improvements;\n",
    "* what is the final architecture and why?\n",
    "* what is the training method and, again, why?\n",
    "* Any regularizations and other techniques applied and their effects;\n",
    "\n",
    "\n",
    "There is no need to write strict mathematical proofs (unless you want to).\n",
    " * \"I tried this, this and this, and the second one turned out to be better. And i just didn't like the name of that one\" - OK, but can be better\n",
    " * \"I have analized these and these articles|sources|blog posts, tried that and that to adapt them to my problem and the conclusions are such and such\" - the ideal one\n",
    " * \"I took that code that demo without understanding it, but i'll never confess that and instead i'll make up some pseudoscientific explaination\" - __not_ok__"
   ]
  },
  {
   "cell_type": "markdown",
   "metadata": {},
   "source": [
    "### Hi, my name is `Rodrigo Rivera`, and here's my story\n",
    "\n",
    "A long ago in a galaxy far far away, when it was still more than an hour before deadline, i got an idea:\n",
    "\n",
    "##### I gonna build a neural network, that\n",
    "is capable of meeting the requested requirements and can be submitted on time for the deadline\n",
    "\n",
    "How could i be so naive?!\n",
    "\n",
    "My biggest mistake was the reluctance in the beginning to use a convolutional layer. I do not have any GPU available, only CPU. I knew from the previous seminars and classes that ReLU or ELU were sensible choices. Moreover, during the last homeworks I realized that starting with a 0.03< learning rate <= 0.09 leads to good results. The previous assignments also showed that including momentum is a good idea, as long as mu<1. I also had noticed that \"jacking up\" both momentum and learning rate is a bad idea. Another good choice was to use nesterov momentum based on the results of the optimisation homework. I saw that even if I did not do the best choices in my selection of hyperparamets, it behaved smoothly. I was however unsure on the exact architecture of the network, if I should modify the batch sizes and the number of epochs.\n",
    "\n",
    "I decided to keep the batch size and play with the number of epochs. I left it first with the original default (100, 50), hoping that with the points discussed above I would have better performance. I also decided to leave the number of units for the dense layers untouched (50 and 10). \n",
    "My plan was to leave everything basically untouched but with an alternative to sgd, another learning rate, a momentum, and a different loss function achieve a better performance. I saw minor improvements.\n",
    "\n",
    "I realised I would need to include additional layers and play with the number of units. However, I did not want to increase the number of variables to update, so I left everything equal. I tried with multiple configuration of hidden layers. Yet, I would still hit 97%.\n",
    "\n",
    "I increased the number of units and played with various configurations, I decided to leave them at (100, 10). After reading the documentation of lasagne, it came the idea to use maxpooling. Yet, I was still not getting the results I wanted and I had already spent too much time in this task. I decided to include a convolutional layer and increase the batch size. Overall it was too slow.\n",
    "\n",
    "I thought it was already getting too \"convoluted\" with too many layers just for the sake of having them, I dropped them while keeping the convolutional layer and the max pooling. I decided to reduce the batch size as it was originally and give a final try before giving up.\n",
    "\n",
    "Finally, I left the network running while I was away of the computer. After I came back I noticed that even though it had not finished the amount of epochs, it had already an accuracy of 99% in the validation. I decided to stop it, had I been in front of the computer paying attention, I could have stopped the training process much earlier.\n",
    "\n",
    "\n",
    "That, having wasted 3 [minutes, hours or => days] of my life training, got\n",
    "\n",
    "* accuracy on training: 99.97\n",
    "* accuracy on validation: 99%\n",
    "* accuracy on test: 99.04%\n",
    "\n",
    "\n",
    "[an optional afterword and mortal curses on assignment authors]\n",
    "As a suggestion, I would like to request if:\n",
    "* The seminar could be more \"goal oriented\". The impression I have after speaking with my peers is that it is not worth the time coming. I would like that instead of some Q&A session as it is the current format, we would have real life advice on best practices for neural networks. I realize how constructing an efficient and effective network is more an art than a science and many best practices are only known through tips & tricks, (obscure) papers, blog posts, etc.\n",
    "* The assignments could have a consistent level of difficulty. Some have taken me a couple hours, this for example took me more than 3 days. The difficulty arises not only due to the waiting time to train a NN without GPU, but also from the things requested. The homeworks require to do a lot of reading outside class and although the amount of code-writing requested is reasonable, coming up with a solution is very time consuming. I wish there could be more handholding.\n",
    "* The assigments could take into account that not everyone has GPU available and that not everybody is an enrolled student at Skoltech (for terminal access/vpn access). Although it is desirable to use GPU, homeworks should not depend on it. Otherwise it takes unnecesarily long.\n",
    "* Reduce the amount of assignments per week. The only possibility to succeed with the pace of this course is if students are fully dedicated to it (few additional classes, no external responsibilities). I would suggest that either this course is extended to 2 modules or that the number of assignments is reduced or their complexity simplified (see point above)\n",
    "* Most of my knowledge for this task came from the previous homeworks. I wish we could have had a homework dedicated only to layers and design choices (see poing above). Although overall I think we have too many homeworks, maybe these type of excercises could be explored in the seminars (see point above).\n",
    "\n",
    "Nevertheless, I must acknowledge that I am finding this subject quite challenging, interesting and I am keen on learning more."
   ]
  },
  {
   "cell_type": "code",
   "execution_count": null,
   "metadata": {
    "collapsed": true
   },
   "outputs": [],
   "source": []
  }
 ],
 "metadata": {
  "kernelspec": {
   "display_name": "Python 2",
   "language": "python",
   "name": "python2"
  },
  "language_info": {
   "codemirror_mode": {
    "name": "ipython",
    "version": 2
   },
   "file_extension": ".py",
   "mimetype": "text/x-python",
   "name": "python",
   "nbconvert_exporter": "python",
   "pygments_lexer": "ipython2",
   "version": "2.7.11"
  }
 },
 "nbformat": 4,
 "nbformat_minor": 0
}
